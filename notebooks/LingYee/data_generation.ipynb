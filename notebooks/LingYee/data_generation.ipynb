{
 "cells": [
  {
   "cell_type": "markdown",
   "id": "a9463256-3db9-4cb1-8024-16fbad801b91",
   "metadata": {},
   "source": [
    "# Twitter Project - Scraping Tweets - LK"
   ]
  },
  {
   "cell_type": "markdown",
   "id": "904b2a18-ab32-4c39-9de0-48bf70671378",
   "metadata": {},
   "source": [
    "### Import libraries"
   ]
  },
  {
   "cell_type": "code",
   "execution_count": 1,
   "id": "610e0080-adf8-4321-b62d-8a770e3cbb77",
   "metadata": {},
   "outputs": [],
   "source": [
    "%load_ext lab_black\n",
    "\n",
    "import configparser\n",
    "import tweepy\n",
    "import pandas as pd\n",
    "import json"
   ]
  },
  {
   "cell_type": "markdown",
   "id": "27f7e3f2-a0c3-49bd-94a8-fabe9eb5d6e3",
   "metadata": {},
   "source": [
    "### Authorization"
   ]
  },
  {
   "cell_type": "code",
   "execution_count": 2,
   "id": "8f4e427c-c21c-499b-a05d-d35b5970b95f",
   "metadata": {},
   "outputs": [],
   "source": [
    "# read config\n",
    "config = configparser.ConfigParser()\n",
    "config.read(\"config.ini\")\n",
    "\n",
    "api_key = config[\"twitter\"][\"api_key\"]\n",
    "api_key_secret = config[\"twitter\"][\"api_key_secret\"]\n",
    "\n",
    "access_token = config[\"twitter\"][\"access_token\"]\n",
    "access_token_secret = config[\"twitter\"][\"access_token_secret\"]\n",
    "\n",
    "# authenticate\n",
    "auth = tweepy.OAuthHandler(api_key, api_key_secret)\n",
    "auth.set_access_token(access_token, access_token_secret)\n",
    "\n",
    "api = tweepy.API(auth)"
   ]
  },
  {
   "cell_type": "markdown",
   "id": "c6697ec8-9e1f-4fd0-aa26-5c7524e19844",
   "metadata": {},
   "source": [
    "### Scrape Tweets for #iPhone14"
   ]
  },
  {
   "cell_type": "code",
   "execution_count": null,
   "id": "2aa8e712-0ae1-45a4-9267-d4e0e3b2c6a7",
   "metadata": {
    "tags": []
   },
   "outputs": [],
   "source": [
    "### search by user\n",
    "# user = 'veritasium'\n",
    "# limit=300\n",
    "# tweets = tweepy.Cursor(api.user_timeline, screen_name=user, count=200, tweet_mode='extended').items(limit)\n",
    "\n",
    "### search by keyword or hashtag (works too for @user)\n",
    "keywords = \"#iPhone14 -filter:retweets\"\n",
    "limit = 1000\n",
    "tweets = tweepy.Cursor(\n",
    "    api.search_tweets, q=keywords, count=100, lang=\"en\", tweet_mode=\"extended\"\n",
    ").items(limit)\n",
    "\n",
    "### create DataFrame\n",
    "columns = [\n",
    "    \"User\",\n",
    "    \"Tweet_time\",\n",
    "    \"Tweet\",\n",
    "    \"Hashtag\",\n",
    "    \"Retweet\",\n",
    "    \"Favorite\",\n",
    "    \"Join_time\",\n",
    "    \"Follower\",\n",
    "    \"Friend\",\n",
    "]\n",
    "\n",
    "data = []\n",
    "\n",
    "for tweet in tweets:\n",
    "    data.append(\n",
    "        [\n",
    "            tweet.user.screen_name,\n",
    "            tweet.created_at,\n",
    "            tweet.full_text,\n",
    "            tweet.entities[\"hashtags\"],\n",
    "            tweet.retweet_count,\n",
    "            tweet.favorite_count,\n",
    "            tweet.user.created_at,\n",
    "            tweet.user.followers_count,\n",
    "            tweet.user.friends_count,\n",
    "        ]\n",
    "    )\n",
    "\n",
    "df = pd.DataFrame(data, columns=columns)"
   ]
  },
  {
   "cell_type": "code",
   "execution_count": 7,
   "id": "287c293a-8a85-4481-a7d2-d460bce20b23",
   "metadata": {},
   "outputs": [
    {
     "data": {
      "text/plain": [
       "(1000, 9)"
      ]
     },
     "execution_count": 7,
     "metadata": {},
     "output_type": "execute_result"
    }
   ],
   "source": [
    "df.shape"
   ]
  },
  {
   "cell_type": "code",
   "execution_count": 8,
   "id": "41269ce0-5e5f-458e-a35c-9da0c281c3f0",
   "metadata": {},
   "outputs": [],
   "source": [
    "df.to_csv(\"iPhone14_x1k.csv\")"
   ]
  },
  {
   "cell_type": "markdown",
   "id": "b8fd3120-6a08-4865-ad0e-97621fae258e",
   "metadata": {},
   "source": [
    "### Scrape Tweets for #iPhone14Pro"
   ]
  },
  {
   "cell_type": "code",
   "execution_count": 6,
   "id": "59b67419-5f07-4a37-a6b4-9aecb1449386",
   "metadata": {},
   "outputs": [
    {
     "data": {
      "text/html": [
       "<div>\n",
       "<style scoped>\n",
       "    .dataframe tbody tr th:only-of-type {\n",
       "        vertical-align: middle;\n",
       "    }\n",
       "\n",
       "    .dataframe tbody tr th {\n",
       "        vertical-align: top;\n",
       "    }\n",
       "\n",
       "    .dataframe thead th {\n",
       "        text-align: right;\n",
       "    }\n",
       "</style>\n",
       "<table border=\"1\" class=\"dataframe\">\n",
       "  <thead>\n",
       "    <tr style=\"text-align: right;\">\n",
       "      <th></th>\n",
       "      <th>User</th>\n",
       "      <th>Tweet_time</th>\n",
       "      <th>Tweet</th>\n",
       "      <th>Hashtag</th>\n",
       "      <th>Retweet</th>\n",
       "      <th>Favorite</th>\n",
       "      <th>Join_time</th>\n",
       "      <th>Follower</th>\n",
       "      <th>Friend</th>\n",
       "    </tr>\n",
       "  </thead>\n",
       "  <tbody>\n",
       "    <tr>\n",
       "      <th>0</th>\n",
       "      <td>YY_Aben</td>\n",
       "      <td>2022-09-15 02:16:58+00:00</td>\n",
       "      <td>iphone 14 Screen protector https://t.co/K30OFG...</td>\n",
       "      <td>[{'text': 'iPhone14Plus', 'indices': [76, 89]}...</td>\n",
       "      <td>0</td>\n",
       "      <td>0</td>\n",
       "      <td>2021-12-02 09:43:48+00:00</td>\n",
       "      <td>2</td>\n",
       "      <td>43</td>\n",
       "    </tr>\n",
       "    <tr>\n",
       "      <th>1</th>\n",
       "      <td>CollectorsTips</td>\n",
       "      <td>2022-09-15 02:14:23+00:00</td>\n",
       "      <td>My sweet hubby @garyzface will be taking my ph...</td>\n",
       "      <td>[{'text': 'iPhone14Pro', 'indices': [75, 87]}]</td>\n",
       "      <td>0</td>\n",
       "      <td>0</td>\n",
       "      <td>2009-08-04 03:18:21+00:00</td>\n",
       "      <td>791</td>\n",
       "      <td>230</td>\n",
       "    </tr>\n",
       "    <tr>\n",
       "      <th>2</th>\n",
       "      <td>georgeavina21</td>\n",
       "      <td>2022-09-15 02:11:40+00:00</td>\n",
       "      <td>Check out my latest post! Everything you need ...</td>\n",
       "      <td>[{'text': 'Apple', 'indices': [77, 83]}, {'tex...</td>\n",
       "      <td>0</td>\n",
       "      <td>0</td>\n",
       "      <td>2009-07-12 12:22:12+00:00</td>\n",
       "      <td>156</td>\n",
       "      <td>263</td>\n",
       "    </tr>\n",
       "    <tr>\n",
       "      <th>3</th>\n",
       "      <td>ChronicallyTG</td>\n",
       "      <td>2022-09-15 02:07:37+00:00</td>\n",
       "      <td>iPhone 14 Pro Max - The best camera system yet...</td>\n",
       "      <td>[{'text': 'iPhone14', 'indices': [85, 94]}, {'...</td>\n",
       "      <td>0</td>\n",
       "      <td>0</td>\n",
       "      <td>2020-03-12 14:51:07+00:00</td>\n",
       "      <td>66</td>\n",
       "      <td>147</td>\n",
       "    </tr>\n",
       "    <tr>\n",
       "      <th>4</th>\n",
       "      <td>upstractcom</td>\n",
       "      <td>2022-09-15 02:06:05+00:00</td>\n",
       "      <td>Travel photographer Austin Mann puts iPhone 14...</td>\n",
       "      <td>[{'text': 'marquesbrownlee', 'indices': [81, 9...</td>\n",
       "      <td>1</td>\n",
       "      <td>0</td>\n",
       "      <td>2014-03-05 15:12:33+00:00</td>\n",
       "      <td>1664</td>\n",
       "      <td>4</td>\n",
       "    </tr>\n",
       "  </tbody>\n",
       "</table>\n",
       "</div>"
      ],
      "text/plain": [
       "             User                Tweet_time  \\\n",
       "0         YY_Aben 2022-09-15 02:16:58+00:00   \n",
       "1  CollectorsTips 2022-09-15 02:14:23+00:00   \n",
       "2   georgeavina21 2022-09-15 02:11:40+00:00   \n",
       "3   ChronicallyTG 2022-09-15 02:07:37+00:00   \n",
       "4     upstractcom 2022-09-15 02:06:05+00:00   \n",
       "\n",
       "                                               Tweet  \\\n",
       "0  iphone 14 Screen protector https://t.co/K30OFG...   \n",
       "1  My sweet hubby @garyzface will be taking my ph...   \n",
       "2  Check out my latest post! Everything you need ...   \n",
       "3  iPhone 14 Pro Max - The best camera system yet...   \n",
       "4  Travel photographer Austin Mann puts iPhone 14...   \n",
       "\n",
       "                                             Hashtag  Retweet  Favorite  \\\n",
       "0  [{'text': 'iPhone14Plus', 'indices': [76, 89]}...        0         0   \n",
       "1     [{'text': 'iPhone14Pro', 'indices': [75, 87]}]        0         0   \n",
       "2  [{'text': 'Apple', 'indices': [77, 83]}, {'tex...        0         0   \n",
       "3  [{'text': 'iPhone14', 'indices': [85, 94]}, {'...        0         0   \n",
       "4  [{'text': 'marquesbrownlee', 'indices': [81, 9...        1         0   \n",
       "\n",
       "                  Join_time  Follower  Friend  \n",
       "0 2021-12-02 09:43:48+00:00         2      43  \n",
       "1 2009-08-04 03:18:21+00:00       791     230  \n",
       "2 2009-07-12 12:22:12+00:00       156     263  \n",
       "3 2020-03-12 14:51:07+00:00        66     147  \n",
       "4 2014-03-05 15:12:33+00:00      1664       4  "
      ]
     },
     "execution_count": 6,
     "metadata": {},
     "output_type": "execute_result"
    }
   ],
   "source": [
    "### search by user\n",
    "# user = 'veritasium'\n",
    "# limit=300\n",
    "# tweets = tweepy.Cursor(api.user_timeline, screen_name=user, count=200, tweet_mode='extended').items(limit)\n",
    "\n",
    "### search by keyword or hashtag (works too for @user)\n",
    "keywords = \"#iPhone14Pro -filter:retweets\"\n",
    "limit = 1000\n",
    "tweets = tweepy.Cursor(\n",
    "    api.search_tweets, q=keywords, count=100, lang=\"en\", tweet_mode=\"extended\"\n",
    ").items(limit)\n",
    "\n",
    "### create DataFrame\n",
    "columns = [\n",
    "    \"User\",\n",
    "    \"Tweet_time\",\n",
    "    \"Tweet\",\n",
    "    \"Hashtag\",\n",
    "    \"Retweet\",\n",
    "    \"Favorite\",\n",
    "    \"Join_time\",\n",
    "    \"Follower\",\n",
    "    \"Friend\",\n",
    "]\n",
    "\n",
    "data = []\n",
    "\n",
    "for tweet in tweets:\n",
    "    data.append(\n",
    "        [\n",
    "            tweet.user.screen_name,\n",
    "            tweet.created_at,\n",
    "            tweet.full_text,\n",
    "            tweet.entities[\"hashtags\"],\n",
    "            tweet.retweet_count,\n",
    "            tweet.favorite_count,\n",
    "            tweet.user.created_at,\n",
    "            tweet.user.followers_count,\n",
    "            tweet.user.friends_count,\n",
    "        ]\n",
    "    )\n",
    "\n",
    "dfpro = pd.DataFrame(data, columns=columns)\n",
    "\n",
    "dfpro.head()"
   ]
  },
  {
   "cell_type": "code",
   "execution_count": 7,
   "id": "c3d390f0-0f82-4c1c-b0f5-13b00f0f8899",
   "metadata": {},
   "outputs": [
    {
     "data": {
      "text/plain": [
       "(1000, 9)"
      ]
     },
     "execution_count": 7,
     "metadata": {},
     "output_type": "execute_result"
    }
   ],
   "source": [
    "dfpro.shape"
   ]
  },
  {
   "cell_type": "code",
   "execution_count": 8,
   "id": "cd01fd0c-ee44-4d64-8f28-6043d57456f6",
   "metadata": {},
   "outputs": [],
   "source": [
    "dfpro.to_csv(\"iPhone14Pro_x1k.csv\")"
   ]
  }
 ],
 "metadata": {
  "kernelspec": {
   "display_name": "propulsion",
   "language": "python",
   "name": "propulsion"
  },
  "language_info": {
   "codemirror_mode": {
    "name": "ipython",
    "version": 3
   },
   "file_extension": ".py",
   "mimetype": "text/x-python",
   "name": "python",
   "nbconvert_exporter": "python",
   "pygments_lexer": "ipython3",
   "version": "3.10.4"
  }
 },
 "nbformat": 4,
 "nbformat_minor": 5
}
