{
 "cells": [
  {
   "cell_type": "markdown",
   "id": "7630abbd-2444-4048-a980-4c9f3d8dd747",
   "metadata": {},
   "source": [
    "# Twitter Project - Data Cleaning and Analysis - LK"
   ]
  },
  {
   "cell_type": "markdown",
   "id": "e55c447b-6de7-4ce0-a57b-1149278e0b1d",
   "metadata": {},
   "source": [
    "### Import libraries"
   ]
  },
  {
   "cell_type": "code",
   "execution_count": 1,
   "id": "fa745ee6-b52d-4e03-8a82-85d814b04d5e",
   "metadata": {},
   "outputs": [],
   "source": [
    "%reload_ext lab_black\n",
    "\n",
    "import pandas as pd\n",
    "import re\n",
    "import string\n",
    "import nltk\n",
    "from nltk.corpus import stopwords\n",
    "from nltk.tokenize import word_tokenize\n",
    "from collections import Counter\n",
    "import json\n",
    "\n",
    "# nltk.download(\"stopwords\")\n",
    "# nltk.download(\"punkt\")"
   ]
  },
  {
   "cell_type": "code",
   "execution_count": 2,
   "id": "0d704ae6-828a-4d48-8f07-2c1202abfe7e",
   "metadata": {},
   "outputs": [],
   "source": [
    "# import more packages for analysis\n",
    "\n",
    "import numpy as np\n",
    "import matplotlib as mpl\n",
    "import matplotlib.pyplot as plt\n",
    "import seaborn as sns\n",
    "\n",
    "import scipy as sp\n",
    "import statsmodels.api as sm\n",
    "import statsmodels.stats.api as sms"
   ]
  },
  {
   "cell_type": "markdown",
   "id": "f422e94a-e835-4e04-ba7b-4f04e2b5c3df",
   "metadata": {},
   "source": [
    "### Cleaning and Merging the iPhone14 and iPhone14Pro DataFrames"
   ]
  },
  {
   "cell_type": "code",
   "execution_count": 3,
   "id": "60b1c869-1491-44a2-9ea4-c92e8d700087",
   "metadata": {
    "id": "8j4n-jf1Vr3Q",
    "outputId": "ee1a23c1-4b59-42a5-a139-dd544f111bd6"
   },
   "outputs": [],
   "source": [
    "# reading iPhone14 data from csv\n",
    "df_raw = pd.read_csv(\"iPhone14_x1k.csv\", index_col=0)"
   ]
  },
  {
   "cell_type": "code",
   "execution_count": 4,
   "id": "f83c8f31-3b68-49f6-a5c7-dc8cb423f3af",
   "metadata": {},
   "outputs": [],
   "source": [
    "# drop duplicates\n",
    "df_a = df_raw.drop_duplicates(keep=\"first\")\n",
    "df_b = df_a.copy()\n",
    "\n",
    "# convert Tweet to lowercase for string comparison\n",
    "df_b[\"Tweet\"] = df_a[\"Tweet\"].str.lower()"
   ]
  },
  {
   "cell_type": "code",
   "execution_count": 5,
   "id": "244fd3eb-e82d-4510-94c0-2bc0fddab8ac",
   "metadata": {
    "id": "8j4n-jf1Vr3Q",
    "outputId": "ee1a23c1-4b59-42a5-a139-dd544f111bd6"
   },
   "outputs": [],
   "source": [
    "# reading iPhone14 data from csv\n",
    "dfpro_raw = pd.read_csv(\"iPhone14pro_x1k.csv\", index_col=0)"
   ]
  },
  {
   "cell_type": "code",
   "execution_count": 6,
   "id": "41fc9eb5-6c4f-4069-a1b1-b914fff2c7ab",
   "metadata": {},
   "outputs": [],
   "source": [
    "# drop duplicates\n",
    "dfpro_a = dfpro_raw.drop_duplicates(keep=\"first\")\n",
    "dfpro_b = dfpro_a.copy()\n",
    "\n",
    "# convert Tweet to lowercase for string comparison\n",
    "dfpro_b[\"Tweet\"] = dfpro_a[\"Tweet\"].str.lower()"
   ]
  },
  {
   "cell_type": "code",
   "execution_count": 7,
   "id": "809a50f2-55fb-47f6-aa55-d17079ed88f2",
   "metadata": {},
   "outputs": [
    {
     "data": {
      "text/plain": [
       "(2000, 9)"
      ]
     },
     "execution_count": 7,
     "metadata": {},
     "output_type": "execute_result"
    }
   ],
   "source": [
    "# Concatenate iPhone14 and iPhone14Pro DataFrames\n",
    "df_comb = pd.concat([df_b, dfpro_b]).reset_index(drop=True)\n",
    "df_comb.shape"
   ]
  },
  {
   "cell_type": "code",
   "execution_count": 8,
   "id": "af2da8f5-6026-4b42-801e-92b594fff54b",
   "metadata": {},
   "outputs": [
    {
     "data": {
      "text/html": [
       "<div>\n",
       "<style scoped>\n",
       "    .dataframe tbody tr th:only-of-type {\n",
       "        vertical-align: middle;\n",
       "    }\n",
       "\n",
       "    .dataframe tbody tr th {\n",
       "        vertical-align: top;\n",
       "    }\n",
       "\n",
       "    .dataframe thead th {\n",
       "        text-align: right;\n",
       "    }\n",
       "</style>\n",
       "<table border=\"1\" class=\"dataframe\">\n",
       "  <thead>\n",
       "    <tr style=\"text-align: right;\">\n",
       "      <th></th>\n",
       "      <th>User</th>\n",
       "      <th>Tweet_time</th>\n",
       "      <th>Tweet</th>\n",
       "      <th>Hashtag</th>\n",
       "      <th>Retweet</th>\n",
       "      <th>Favorite</th>\n",
       "      <th>Join_time</th>\n",
       "      <th>Follower</th>\n",
       "      <th>Friend</th>\n",
       "    </tr>\n",
       "  </thead>\n",
       "  <tbody>\n",
       "    <tr>\n",
       "      <th>0</th>\n",
       "      <td>PrasherManik</td>\n",
       "      <td>2022-09-15 02:03:03+00:00</td>\n",
       "      <td>iphone 12, iphone 13 and iphone 14 are exactly...</td>\n",
       "      <td>[{'text': 'iPhone', 'indices': [93, 100]}, {'t...</td>\n",
       "      <td>0</td>\n",
       "      <td>0</td>\n",
       "      <td>2021-04-22 11:41:31+00:00</td>\n",
       "      <td>23</td>\n",
       "      <td>562</td>\n",
       "    </tr>\n",
       "    <tr>\n",
       "      <th>1</th>\n",
       "      <td>MickLee93</td>\n",
       "      <td>2022-09-15 02:02:08+00:00</td>\n",
       "      <td>this is the quality content i put in @tiktok_u...</td>\n",
       "      <td>[{'text': 'iPhone14', 'indices': [50, 59]}, {'...</td>\n",
       "      <td>0</td>\n",
       "      <td>0</td>\n",
       "      <td>2010-11-29 02:27:28+00:00</td>\n",
       "      <td>69</td>\n",
       "      <td>134</td>\n",
       "    </tr>\n",
       "    <tr>\n",
       "      <th>2</th>\n",
       "      <td>KraifTweets</td>\n",
       "      <td>2022-09-15 02:01:26+00:00</td>\n",
       "      <td>announcement: verizon has started shipping iph...</td>\n",
       "      <td>[{'text': 'iphone14', 'indices': [109, 118]}, ...</td>\n",
       "      <td>0</td>\n",
       "      <td>0</td>\n",
       "      <td>2022-01-30 02:38:25+00:00</td>\n",
       "      <td>1558</td>\n",
       "      <td>58</td>\n",
       "    </tr>\n",
       "    <tr>\n",
       "      <th>3</th>\n",
       "      <td>Vedank__Panwar</td>\n",
       "      <td>2022-09-15 01:58:41+00:00</td>\n",
       "      <td>do you call or text?\\r\\n#technology #iphone #i...</td>\n",
       "      <td>[{'text': 'technology', 'indices': [21, 32]}, ...</td>\n",
       "      <td>0</td>\n",
       "      <td>1</td>\n",
       "      <td>2020-09-30 05:07:58+00:00</td>\n",
       "      <td>63</td>\n",
       "      <td>56</td>\n",
       "    </tr>\n",
       "    <tr>\n",
       "      <th>4</th>\n",
       "      <td>cle0desktop</td>\n",
       "      <td>2022-09-15 01:58:15+00:00</td>\n",
       "      <td>pure black blue theme for windows 11 \\r\\nget i...</td>\n",
       "      <td>[{'text': 'Cleodesktop', 'indices': [75, 87]},...</td>\n",
       "      <td>1</td>\n",
       "      <td>0</td>\n",
       "      <td>2013-11-17 02:01:27+00:00</td>\n",
       "      <td>34882</td>\n",
       "      <td>173</td>\n",
       "    </tr>\n",
       "  </tbody>\n",
       "</table>\n",
       "</div>"
      ],
      "text/plain": [
       "             User                 Tweet_time  \\\n",
       "0    PrasherManik  2022-09-15 02:03:03+00:00   \n",
       "1       MickLee93  2022-09-15 02:02:08+00:00   \n",
       "2     KraifTweets  2022-09-15 02:01:26+00:00   \n",
       "3  Vedank__Panwar  2022-09-15 01:58:41+00:00   \n",
       "4     cle0desktop  2022-09-15 01:58:15+00:00   \n",
       "\n",
       "                                               Tweet  \\\n",
       "0  iphone 12, iphone 13 and iphone 14 are exactly...   \n",
       "1  this is the quality content i put in @tiktok_u...   \n",
       "2  announcement: verizon has started shipping iph...   \n",
       "3  do you call or text?\\r\\n#technology #iphone #i...   \n",
       "4  pure black blue theme for windows 11 \\r\\nget i...   \n",
       "\n",
       "                                             Hashtag  Retweet  Favorite  \\\n",
       "0  [{'text': 'iPhone', 'indices': [93, 100]}, {'t...        0         0   \n",
       "1  [{'text': 'iPhone14', 'indices': [50, 59]}, {'...        0         0   \n",
       "2  [{'text': 'iphone14', 'indices': [109, 118]}, ...        0         0   \n",
       "3  [{'text': 'technology', 'indices': [21, 32]}, ...        0         1   \n",
       "4  [{'text': 'Cleodesktop', 'indices': [75, 87]},...        1         0   \n",
       "\n",
       "                   Join_time  Follower  Friend  \n",
       "0  2021-04-22 11:41:31+00:00        23     562  \n",
       "1  2010-11-29 02:27:28+00:00        69     134  \n",
       "2  2022-01-30 02:38:25+00:00      1558      58  \n",
       "3  2020-09-30 05:07:58+00:00        63      56  \n",
       "4  2013-11-17 02:01:27+00:00     34882     173  "
      ]
     },
     "execution_count": 8,
     "metadata": {},
     "output_type": "execute_result"
    }
   ],
   "source": [
    "df_comb.head()"
   ]
  },
  {
   "cell_type": "code",
   "execution_count": 9,
   "id": "b52c9d04-b553-4c4b-ae4c-f028c3968e24",
   "metadata": {},
   "outputs": [],
   "source": [
    "## create a new column to indicate tweets that are in both iPhone14 and iPhone14Pro DataFrames\n",
    "df_comb[\"overlap\"] = df_comb.duplicated(keep=False)\n",
    "\n",
    "# drop tweets that are in both iPhone14 and iPhone14Pro DataFrames\n",
    "# df_sub = df.drop_duplicates(subset=[\"User\", \"DateTime\", \"Tweet\"], keep=False).copy()"
   ]
  },
  {
   "cell_type": "code",
   "execution_count": 10,
   "id": "15463a0c-9185-4464-95d6-d5dc921516a8",
   "metadata": {},
   "outputs": [],
   "source": [
    "# define a function to clean up the text in Tweet before counting the words in them\n",
    "\n",
    "\n",
    "def cleanup(text):\n",
    "    # remove elements that begin with @... or http...\n",
    "    text1 = re.sub(r\"@\\S+\", \"\", text)\n",
    "    text2 = re.sub(r\"http\\S+\", \"\", text1)\n",
    "\n",
    "    # remove \\r, \\n, RT, or &amp;\n",
    "    text3 = (\n",
    "        text2.replace(\"\\r\", \"\")\n",
    "        .replace(\"\\n\", \" \")\n",
    "        .replace(\"RT\", \"\")\n",
    "        .replace(\"&amp;\", \"\")\n",
    "    )\n",
    "\n",
    "    # remove punctuation\n",
    "    text4 = \"\".join([i.lower() for i in text3 if i not in string.punctuation])\n",
    "\n",
    "    # remove stopwords\n",
    "    text5 = \" \".join(\n",
    "        [\n",
    "            word\n",
    "            for word in word_tokenize(text4)\n",
    "            if not word in stopwords.words(\"english\")\n",
    "        ]\n",
    "    )\n",
    "\n",
    "    return text5"
   ]
  },
  {
   "cell_type": "code",
   "execution_count": 11,
   "id": "38229545-9ee6-44f5-8f2b-ce12dd282e34",
   "metadata": {
    "tags": []
   },
   "outputs": [],
   "source": [
    "# define the function to return the list with \"n\" most common words in Tweet\n",
    "\n",
    "\n",
    "def tweet_words(n, df_in):\n",
    "\n",
    "    # combine the text of all tweets\n",
    "    combitext = \" \".join(df_in[\"Tweet\"].values)\n",
    "\n",
    "    # clean up the combined text\n",
    "    cleantext = cleanup(combitext)\n",
    "\n",
    "    # show the list with \"n\" most common words\n",
    "    return Counter(cleantext.split()).most_common(n)"
   ]
  },
  {
   "cell_type": "code",
   "execution_count": 12,
   "id": "28f1c69b-4cea-4f20-a3d4-1bd07a88126b",
   "metadata": {},
   "outputs": [],
   "source": [
    "df_sub = df_comb.copy()"
   ]
  },
  {
   "cell_type": "code",
   "execution_count": 13,
   "id": "f15f3723-9f51-4464-b530-8d0f3361e33d",
   "metadata": {},
   "outputs": [
    {
     "data": {
      "text/html": [
       "<div>\n",
       "<style scoped>\n",
       "    .dataframe tbody tr th:only-of-type {\n",
       "        vertical-align: middle;\n",
       "    }\n",
       "\n",
       "    .dataframe tbody tr th {\n",
       "        vertical-align: top;\n",
       "    }\n",
       "\n",
       "    .dataframe thead th {\n",
       "        text-align: right;\n",
       "    }\n",
       "</style>\n",
       "<table border=\"1\" class=\"dataframe\">\n",
       "  <thead>\n",
       "    <tr style=\"text-align: right;\">\n",
       "      <th></th>\n",
       "      <th>Retweet</th>\n",
       "      <th>Favorite</th>\n",
       "      <th>Follower</th>\n",
       "      <th>Friend</th>\n",
       "    </tr>\n",
       "  </thead>\n",
       "  <tbody>\n",
       "    <tr>\n",
       "      <th>count</th>\n",
       "      <td>2000.000000</td>\n",
       "      <td>2000.000000</td>\n",
       "      <td>2.000000e+03</td>\n",
       "      <td>2000.000000</td>\n",
       "    </tr>\n",
       "    <tr>\n",
       "      <th>mean</th>\n",
       "      <td>1.134000</td>\n",
       "      <td>10.316500</td>\n",
       "      <td>3.130892e+04</td>\n",
       "      <td>916.678500</td>\n",
       "    </tr>\n",
       "    <tr>\n",
       "      <th>std</th>\n",
       "      <td>14.321473</td>\n",
       "      <td>120.045624</td>\n",
       "      <td>4.846429e+05</td>\n",
       "      <td>4066.409153</td>\n",
       "    </tr>\n",
       "    <tr>\n",
       "      <th>min</th>\n",
       "      <td>0.000000</td>\n",
       "      <td>0.000000</td>\n",
       "      <td>0.000000e+00</td>\n",
       "      <td>0.000000</td>\n",
       "    </tr>\n",
       "    <tr>\n",
       "      <th>25%</th>\n",
       "      <td>0.000000</td>\n",
       "      <td>0.000000</td>\n",
       "      <td>1.300000e+01</td>\n",
       "      <td>33.750000</td>\n",
       "    </tr>\n",
       "    <tr>\n",
       "      <th>50%</th>\n",
       "      <td>0.000000</td>\n",
       "      <td>0.000000</td>\n",
       "      <td>1.435000e+02</td>\n",
       "      <td>142.000000</td>\n",
       "    </tr>\n",
       "    <tr>\n",
       "      <th>75%</th>\n",
       "      <td>0.000000</td>\n",
       "      <td>1.000000</td>\n",
       "      <td>1.019250e+03</td>\n",
       "      <td>621.000000</td>\n",
       "    </tr>\n",
       "    <tr>\n",
       "      <th>max</th>\n",
       "      <td>573.000000</td>\n",
       "      <td>4598.000000</td>\n",
       "      <td>1.454497e+07</td>\n",
       "      <td>147074.000000</td>\n",
       "    </tr>\n",
       "  </tbody>\n",
       "</table>\n",
       "</div>"
      ],
      "text/plain": [
       "           Retweet     Favorite      Follower         Friend\n",
       "count  2000.000000  2000.000000  2.000000e+03    2000.000000\n",
       "mean      1.134000    10.316500  3.130892e+04     916.678500\n",
       "std      14.321473   120.045624  4.846429e+05    4066.409153\n",
       "min       0.000000     0.000000  0.000000e+00       0.000000\n",
       "25%       0.000000     0.000000  1.300000e+01      33.750000\n",
       "50%       0.000000     0.000000  1.435000e+02     142.000000\n",
       "75%       0.000000     1.000000  1.019250e+03     621.000000\n",
       "max     573.000000  4598.000000  1.454497e+07  147074.000000"
      ]
     },
     "execution_count": 13,
     "metadata": {},
     "output_type": "execute_result"
    }
   ],
   "source": [
    "df_sub.describe()"
   ]
  },
  {
   "cell_type": "code",
   "execution_count": 14,
   "id": "d396e95b-5900-4d7b-b6e7-2a11a88bf4f5",
   "metadata": {
    "collapsed": true,
    "jupyter": {
     "outputs_hidden": true
    },
    "tags": []
   },
   "outputs": [
    {
     "data": {
      "text/plain": [
       "[('iphone', 30),\n",
       " ('iphone14', 27),\n",
       " ('iphone14pro', 26),\n",
       " ('14', 24),\n",
       " ('pro', 16),\n",
       " ('’', 11),\n",
       " ('apple', 10),\n",
       " ('news', 8),\n",
       " ('first', 7),\n",
       " ('new', 6),\n",
       " ('good', 5),\n",
       " ('iphone14promax', 4),\n",
       " ('bad', 4),\n",
       " ('performance', 4),\n",
       " ('despite', 4),\n",
       " ('using', 4),\n",
       " ('gen', 4),\n",
       " ('max', 4),\n",
       " ('ios16', 4),\n",
       " ('unboxing', 3)]"
      ]
     },
     "execution_count": 14,
     "metadata": {},
     "output_type": "execute_result"
    }
   ],
   "source": [
    "#########################################################################################\n",
    "# Look at common words from tweets that satisfy certain conditions, such as\n",
    "# the number of retweets and favorites and the number of followers of the tweeters\n",
    "#########################################################################################\n",
    "\n",
    "df_input = df_sub[df_sub[\"Retweet\"] > 5]\n",
    "tweet_words(20, df_input)"
   ]
  },
  {
   "cell_type": "code",
   "execution_count": 15,
   "id": "6229ff96-179f-4776-8216-c53e292585d9",
   "metadata": {
    "collapsed": true,
    "jupyter": {
     "outputs_hidden": true
    },
    "tags": []
   },
   "outputs": [
    {
     "data": {
      "text/plain": [
       "[('iphone14pro', 71),\n",
       " ('iphone14', 68),\n",
       " ('iphone', 59),\n",
       " ('apple', 41),\n",
       " ('14', 37),\n",
       " ('pro', 25),\n",
       " ('ios16', 23),\n",
       " ('iphone14promax', 23),\n",
       " ('’', 21),\n",
       " ('new', 16),\n",
       " ('android', 13),\n",
       " ('gtgt', 13),\n",
       " ('ltlt', 13),\n",
       " ('wallpapers', 11),\n",
       " ('first', 9),\n",
       " ('wallpaper', 8),\n",
       " ('appleevent', 8),\n",
       " ('samsunggalaxy', 8),\n",
       " ('display', 8),\n",
       " ('widgy', 8)]"
      ]
     },
     "execution_count": 15,
     "metadata": {},
     "output_type": "execute_result"
    }
   ],
   "source": [
    "df_input = df_sub[df_sub[\"Favorite\"] > 10]\n",
    "tweet_words(20, df_input)"
   ]
  },
  {
   "cell_type": "code",
   "execution_count": 16,
   "id": "ad2c167c-477c-434a-b5ed-5e64d3cc9a61",
   "metadata": {
    "collapsed": true,
    "jupyter": {
     "outputs_hidden": true
    },
    "tags": []
   },
   "outputs": [
    {
     "data": {
      "text/plain": [
       "[('iphone14', 761),\n",
       " ('iphone', 688),\n",
       " ('iphone14pro', 669),\n",
       " ('14', 428),\n",
       " ('apple', 419),\n",
       " ('pro', 252),\n",
       " ('ios16', 199),\n",
       " ('’', 193),\n",
       " ('iphone14promax', 183),\n",
       " ('new', 165),\n",
       " ('appleevent', 110),\n",
       " ('screen', 108),\n",
       " ('max', 90),\n",
       " ('ios', 89),\n",
       " ('get', 84),\n",
       " ('whitestone', 78),\n",
       " ('iphone14plus', 74),\n",
       " ('island', 69),\n",
       " ('phone', 68),\n",
       " ('dynamic', 64)]"
      ]
     },
     "execution_count": 16,
     "metadata": {},
     "output_type": "execute_result"
    }
   ],
   "source": [
    "df_input = df_sub[df_sub[\"Follower\"] > 100]\n",
    "tweet_words(20, df_input)"
   ]
  },
  {
   "cell_type": "code",
   "execution_count": 17,
   "id": "2ce67142-764b-47ec-a77e-728090cfeb2a",
   "metadata": {
    "collapsed": true,
    "jupyter": {
     "outputs_hidden": true
    },
    "tags": []
   },
   "outputs": [
    {
     "data": {
      "text/plain": [
       "[('iphone14', 201),\n",
       " ('iphone', 152),\n",
       " ('14', 106),\n",
       " ('iphone14pro', 91),\n",
       " ('apple', 80),\n",
       " ('screen', 64),\n",
       " ('whitestone', 64),\n",
       " ('appleevent', 49),\n",
       " ('pro', 41),\n",
       " ('want', 38),\n",
       " ('hay', 35),\n",
       " ('create', 35),\n",
       " ('cute', 35),\n",
       " ('image', 35),\n",
       " ('cartoon', 35)]"
      ]
     },
     "execution_count": 17,
     "metadata": {},
     "output_type": "execute_result"
    }
   ],
   "source": [
    "df_input = df_sub[df_sub[\"Friend\"] > 2000]\n",
    "tweet_words(15, df_input)"
   ]
  },
  {
   "cell_type": "code",
   "execution_count": 18,
   "id": "c1def1cb-0ea1-4ba3-a304-3245fa96b8a0",
   "metadata": {},
   "outputs": [
    {
     "data": {
      "text/plain": [
       "'\\n\\n### Use only if sentiment word list is available\\n\\n# read from lists of positive and negative words\\n\\nwith open(\"positive-words.txt\", \"r\") as filepos:\\n    # read all content of a file\\n    content_pos = filepos.read()\\n\\nwith open(\"negative-words.txt\", \"r\") as fileneg:\\n    # read all content of a file\\n    content_neg = fileneg.read()\\n    \\n# check if tweets contain words from the positive/negative lists\\n\\ndef wordpos(text):\\n    pos = 0\\n    for word in word_tokenize(text):\\n        if re.search(r\"\\x08{}\\x08\".format(text), content_pos):\\n            pos += 1\\n    return pos\\n    \\ndef wordneg(text):\\n    neg = 0\\n    for word in word_tokenize(text):\\n        if re.search(r\"\\x08{}\\x08\".format(text), content_neg):\\n            neg += 1\\n    return neg\\n\\ndf_senti = df_b.copy()\\n\\n# clean up the text\\ndf_senti[\"Tweet\"] = df_b[\"Tweet\"].apply(cleanup)\\n\\ndf_senti[\"Positive\"] = df_senti[\"Tweet\"].apply(wordpos)\\ndf_senti[\"Negative\"] = df_senti[\"Tweet\"].apply(wordneg)\\n\\ndf_senti.describe()\\n\\n'"
      ]
     },
     "execution_count": 18,
     "metadata": {},
     "output_type": "execute_result"
    }
   ],
   "source": [
    "\"\"\"\n",
    "\n",
    "### Use only if sentiment word list is available\n",
    "\n",
    "# read from lists of positive and negative words\n",
    "\n",
    "with open(\"positive-words.txt\", \"r\") as filepos:\n",
    "    # read all content of a file\n",
    "    content_pos = filepos.read()\n",
    "\n",
    "with open(\"negative-words.txt\", \"r\") as fileneg:\n",
    "    # read all content of a file\n",
    "    content_neg = fileneg.read()\n",
    "    \n",
    "# check if tweets contain words from the positive/negative lists\n",
    "\n",
    "def wordpos(text):\n",
    "    pos = 0\n",
    "    for word in word_tokenize(text):\n",
    "        if re.search(r\"\\b{}\\b\".format(text), content_pos):\n",
    "            pos += 1\n",
    "    return pos\n",
    "    \n",
    "def wordneg(text):\n",
    "    neg = 0\n",
    "    for word in word_tokenize(text):\n",
    "        if re.search(r\"\\b{}\\b\".format(text), content_neg):\n",
    "            neg += 1\n",
    "    return neg\n",
    "\n",
    "df_senti = df_b.copy()\n",
    "\n",
    "# clean up the text\n",
    "df_senti[\"Tweet\"] = df_b[\"Tweet\"].apply(cleanup)\n",
    "\n",
    "df_senti[\"Positive\"] = df_senti[\"Tweet\"].apply(wordpos)\n",
    "df_senti[\"Negative\"] = df_senti[\"Tweet\"].apply(wordneg)\n",
    "\n",
    "df_senti.describe()\n",
    "\n",
    "\"\"\""
   ]
  },
  {
   "cell_type": "code",
   "execution_count": 19,
   "id": "c90ec71d-56c0-4eab-a531-233fecf33a6f",
   "metadata": {},
   "outputs": [
    {
     "data": {
      "text/plain": [
       "'\\ndf_stat = df_sub.copy()\\n\\n# clean up the tweet text\\ndf_stat[\"Tweet\"] = df_sub[\"Tweet\"].apply(cleanup)\\n\\ndf_stat.head()\\n'"
      ]
     },
     "execution_count": 19,
     "metadata": {},
     "output_type": "execute_result"
    }
   ],
   "source": [
    "\"\"\"\n",
    "df_stat = df_sub.copy()\n",
    "\n",
    "# clean up the tweet text\n",
    "df_stat[\"Tweet\"] = df_sub[\"Tweet\"].apply(cleanup)\n",
    "\n",
    "df_stat.head()\n",
    "\"\"\""
   ]
  },
  {
   "cell_type": "code",
   "execution_count": 20,
   "id": "a65ef728-c114-451e-9b13-e6ed4e338569",
   "metadata": {
    "tags": []
   },
   "outputs": [],
   "source": [
    "df_stat = df_sub.copy()\n",
    "df_stat2 = df_stat.drop_duplicates(keep=\"first\").reset_index(drop=True).copy()\n",
    "\n",
    "# change column name to lowercase\n",
    "df_stat2.columns = map(str.lower, df_stat2.columns)"
   ]
  },
  {
   "cell_type": "code",
   "execution_count": 21,
   "id": "6432cbb8-3865-4bb1-ac4d-9fe09e5921fc",
   "metadata": {
    "tags": []
   },
   "outputs": [],
   "source": [
    "# length of tweet\n",
    "df_stat2[\"length\"] = df_stat2[\"tweet\"].apply(len)\n",
    "\n",
    "# number of emoticons\n",
    "df_stat2[\"emo\"] = df_stat2[\"tweet\"].apply(\n",
    "    lambda x: re.findall(\"[\\U0001f600-\\U0001f650]\", x)\n",
    ")\n",
    "df_stat2[\"emoticon\"] = df_stat2[\"emo\"].apply(len)\n",
    "\n",
    "# joined years\n",
    "df_stat2[\"use_history\"] = df_stat2[\"join_time\"].apply(lambda x: 2022 - int(x[0:4]))"
   ]
  },
  {
   "cell_type": "code",
   "execution_count": 22,
   "id": "72aea629-4c57-481f-ad37-234dc2eae3e5",
   "metadata": {},
   "outputs": [],
   "source": [
    "# reading top positive words from csv\n",
    "df_pos = pd.read_csv(\"top_positive_words.csv\", index_col=0)\n",
    "\n",
    "pos_list = df_pos.index.tolist()\n",
    "\n",
    "# positive words\n",
    "df_stat2[\"positive\"] = df_stat2[\"tweet\"].apply(\n",
    "    lambda text: sum(w in pos_list for w in text.split())\n",
    ")"
   ]
  },
  {
   "cell_type": "code",
   "execution_count": 23,
   "id": "9facdc22-e45a-4bba-b001-d5442ef96a1d",
   "metadata": {},
   "outputs": [
    {
     "data": {
      "text/html": [
       "<div>\n",
       "<style scoped>\n",
       "    .dataframe tbody tr th:only-of-type {\n",
       "        vertical-align: middle;\n",
       "    }\n",
       "\n",
       "    .dataframe tbody tr th {\n",
       "        vertical-align: top;\n",
       "    }\n",
       "\n",
       "    .dataframe thead th {\n",
       "        text-align: right;\n",
       "    }\n",
       "</style>\n",
       "<table border=\"1\" class=\"dataframe\">\n",
       "  <thead>\n",
       "    <tr style=\"text-align: right;\">\n",
       "      <th></th>\n",
       "      <th>user</th>\n",
       "      <th>tweet_time</th>\n",
       "      <th>tweet</th>\n",
       "      <th>hashtag</th>\n",
       "      <th>retweet</th>\n",
       "      <th>favorite</th>\n",
       "      <th>join_time</th>\n",
       "      <th>follower</th>\n",
       "      <th>friend</th>\n",
       "      <th>overlap</th>\n",
       "      <th>length</th>\n",
       "      <th>emo</th>\n",
       "      <th>emoticon</th>\n",
       "      <th>use_history</th>\n",
       "      <th>positive</th>\n",
       "    </tr>\n",
       "  </thead>\n",
       "  <tbody>\n",
       "    <tr>\n",
       "      <th>0</th>\n",
       "      <td>PrasherManik</td>\n",
       "      <td>2022-09-15 02:03:03+00:00</td>\n",
       "      <td>iphone 12, iphone 13 and iphone 14 are exactly...</td>\n",
       "      <td>[{'text': 'iPhone', 'indices': [93, 100]}, {'t...</td>\n",
       "      <td>0</td>\n",
       "      <td>0</td>\n",
       "      <td>2021-04-22 11:41:31+00:00</td>\n",
       "      <td>23</td>\n",
       "      <td>562</td>\n",
       "      <td>True</td>\n",
       "      <td>125</td>\n",
       "      <td>[]</td>\n",
       "      <td>0</td>\n",
       "      <td>1</td>\n",
       "      <td>0</td>\n",
       "    </tr>\n",
       "    <tr>\n",
       "      <th>1</th>\n",
       "      <td>MickLee93</td>\n",
       "      <td>2022-09-15 02:02:08+00:00</td>\n",
       "      <td>this is the quality content i put in @tiktok_u...</td>\n",
       "      <td>[{'text': 'iPhone14', 'indices': [50, 59]}, {'...</td>\n",
       "      <td>0</td>\n",
       "      <td>0</td>\n",
       "      <td>2010-11-29 02:27:28+00:00</td>\n",
       "      <td>69</td>\n",
       "      <td>134</td>\n",
       "      <td>True</td>\n",
       "      <td>136</td>\n",
       "      <td>[]</td>\n",
       "      <td>0</td>\n",
       "      <td>12</td>\n",
       "      <td>0</td>\n",
       "    </tr>\n",
       "    <tr>\n",
       "      <th>2</th>\n",
       "      <td>KraifTweets</td>\n",
       "      <td>2022-09-15 02:01:26+00:00</td>\n",
       "      <td>announcement: verizon has started shipping iph...</td>\n",
       "      <td>[{'text': 'iphone14', 'indices': [109, 118]}, ...</td>\n",
       "      <td>0</td>\n",
       "      <td>0</td>\n",
       "      <td>2022-01-30 02:38:25+00:00</td>\n",
       "      <td>1558</td>\n",
       "      <td>58</td>\n",
       "      <td>False</td>\n",
       "      <td>167</td>\n",
       "      <td>[]</td>\n",
       "      <td>0</td>\n",
       "      <td>0</td>\n",
       "      <td>0</td>\n",
       "    </tr>\n",
       "    <tr>\n",
       "      <th>3</th>\n",
       "      <td>Vedank__Panwar</td>\n",
       "      <td>2022-09-15 01:58:41+00:00</td>\n",
       "      <td>do you call or text?\\r\\n#technology #iphone #i...</td>\n",
       "      <td>[{'text': 'technology', 'indices': [21, 32]}, ...</td>\n",
       "      <td>0</td>\n",
       "      <td>1</td>\n",
       "      <td>2020-09-30 05:07:58+00:00</td>\n",
       "      <td>63</td>\n",
       "      <td>56</td>\n",
       "      <td>False</td>\n",
       "      <td>71</td>\n",
       "      <td>[]</td>\n",
       "      <td>0</td>\n",
       "      <td>2</td>\n",
       "      <td>0</td>\n",
       "    </tr>\n",
       "    <tr>\n",
       "      <th>4</th>\n",
       "      <td>cle0desktop</td>\n",
       "      <td>2022-09-15 01:58:15+00:00</td>\n",
       "      <td>pure black blue theme for windows 11 \\r\\nget i...</td>\n",
       "      <td>[{'text': 'Cleodesktop', 'indices': [75, 87]},...</td>\n",
       "      <td>1</td>\n",
       "      <td>0</td>\n",
       "      <td>2013-11-17 02:01:27+00:00</td>\n",
       "      <td>34882</td>\n",
       "      <td>173</td>\n",
       "      <td>False</td>\n",
       "      <td>280</td>\n",
       "      <td>[]</td>\n",
       "      <td>0</td>\n",
       "      <td>9</td>\n",
       "      <td>0</td>\n",
       "    </tr>\n",
       "  </tbody>\n",
       "</table>\n",
       "</div>"
      ],
      "text/plain": [
       "             user                 tweet_time  \\\n",
       "0    PrasherManik  2022-09-15 02:03:03+00:00   \n",
       "1       MickLee93  2022-09-15 02:02:08+00:00   \n",
       "2     KraifTweets  2022-09-15 02:01:26+00:00   \n",
       "3  Vedank__Panwar  2022-09-15 01:58:41+00:00   \n",
       "4     cle0desktop  2022-09-15 01:58:15+00:00   \n",
       "\n",
       "                                               tweet  \\\n",
       "0  iphone 12, iphone 13 and iphone 14 are exactly...   \n",
       "1  this is the quality content i put in @tiktok_u...   \n",
       "2  announcement: verizon has started shipping iph...   \n",
       "3  do you call or text?\\r\\n#technology #iphone #i...   \n",
       "4  pure black blue theme for windows 11 \\r\\nget i...   \n",
       "\n",
       "                                             hashtag  retweet  favorite  \\\n",
       "0  [{'text': 'iPhone', 'indices': [93, 100]}, {'t...        0         0   \n",
       "1  [{'text': 'iPhone14', 'indices': [50, 59]}, {'...        0         0   \n",
       "2  [{'text': 'iphone14', 'indices': [109, 118]}, ...        0         0   \n",
       "3  [{'text': 'technology', 'indices': [21, 32]}, ...        0         1   \n",
       "4  [{'text': 'Cleodesktop', 'indices': [75, 87]},...        1         0   \n",
       "\n",
       "                   join_time  follower  friend  overlap  length emo  emoticon  \\\n",
       "0  2021-04-22 11:41:31+00:00        23     562     True     125  []         0   \n",
       "1  2010-11-29 02:27:28+00:00        69     134     True     136  []         0   \n",
       "2  2022-01-30 02:38:25+00:00      1558      58    False     167  []         0   \n",
       "3  2020-09-30 05:07:58+00:00        63      56    False      71  []         0   \n",
       "4  2013-11-17 02:01:27+00:00     34882     173    False     280  []         0   \n",
       "\n",
       "   use_history  positive  \n",
       "0            1         0  \n",
       "1           12         0  \n",
       "2            0         0  \n",
       "3            2         0  \n",
       "4            9         0  "
      ]
     },
     "execution_count": 23,
     "metadata": {},
     "output_type": "execute_result"
    }
   ],
   "source": [
    "df_stat2.head()"
   ]
  },
  {
   "cell_type": "code",
   "execution_count": 26,
   "id": "1557e7c1-f47f-449c-a281-ae946c048623",
   "metadata": {},
   "outputs": [
    {
     "data": {
      "image/png": "[encoded data removed]",
      "text/plain": [
       "<Figure size 1200x1000 with 2 Axes>"
      ]
     },
     "metadata": {},
     "output_type": "display_data"
    }
   ],
   "source": [
    "corr = df_stat2[\n",
    "    [\n",
    "        \"retweet\",\n",
    "        \"favorite\",\n",
    "        \"follower\",\n",
    "        \"friend\",\n",
    "        \"length\",\n",
    "        \"emoticon\",\n",
    "        \"use_history\",\n",
    "        \"positive\",\n",
    "    ]\n",
    "].corr()\n",
    "\n",
    "fig, ax = plt.subplots(figsize=(12, 10))\n",
    "\n",
    "mask = np.triu(np.ones_like(corr, dtype=bool))\n",
    "cmap = sns.diverging_palette(10, 240, as_cmap=True)\n",
    "sns.heatmap(corr, mask=mask, vmin=-1, vmax=1, cmap=cmap, annot=True)\n",
    "plt.show()"
   ]
  },
  {
   "cell_type": "markdown",
   "id": "b8bdf9e7-0c9a-4c27-83c9-628e5778eb66",
   "metadata": {},
   "source": [
    "As shown in the heatmap above, based on the tweets about #iPhone14 and #iPhone14Pro, the following correlations are observed:\n",
    "- The tweets from tweeters with longer history on Twitter are retweeted and favorited more often.\n",
    "- These tweeters also have more followers and friends but their tweets tend to be shorter and with less emoticons.\n",
    "- The tweets that contain more \"positive\" words tend to be longer and are from tweeters with more friends.\n"
   ]
  },
  {
   "cell_type": "code",
   "execution_count": 171,
   "id": "923c0e59-0b5a-4f5f-87eb-72daeea1fa49",
   "metadata": {},
   "outputs": [
    {
     "name": "stdout",
     "output_type": "stream",
     "text": [
      "                 Generalized Linear Model Regression Results                  \n",
      "==============================================================================\n",
      "Dep. Variable:                retweet   No. Observations:                 1826\n",
      "Model:                            GLM   Df Residuals:                     1818\n",
      "Model Family:                 Poisson   Df Model:                            7\n",
      "Link Function:                    Log   Scale:                          1.0000\n",
      "Method:                          IRLS   Log-Likelihood:                -4266.9\n",
      "Date:                Fri, 16 Sep 2022   Deviance:                       7639.0\n",
      "Time:                        15:32:21   Pearson chi2:                 5.83e+04\n",
      "No. Iterations:                    11   Pseudo R-squ. (CS):             0.9890\n",
      "Covariance Type:            nonrobust                                         \n",
      "===============================================================================\n",
      "                  coef    std err          z      P>|z|      [0.025      0.975]\n",
      "-------------------------------------------------------------------------------\n",
      "const          -0.9806      0.087    -11.255      0.000      -1.151      -0.810\n",
      "favorite        0.0013    1.3e-05    102.893      0.000       0.001       0.001\n",
      "follower     1.493e-07   1.43e-08     10.451      0.000    1.21e-07    1.77e-07\n",
      "friend       1.529e-06   4.65e-06      0.329      0.742   -7.58e-06    1.06e-05\n",
      "length          0.0003      0.000      0.775      0.438      -0.000       0.001\n",
      "emoticon        0.1867      0.036      5.173      0.000       0.116       0.257\n",
      "use_history     0.1012      0.005     18.680      0.000       0.091       0.112\n",
      "positive        0.0524      0.032      1.631      0.103      -0.011       0.115\n",
      "===============================================================================\n"
     ]
    }
   ],
   "source": [
    "# Poisson regression model on the number of retweets\n",
    "\n",
    "Y = df_stat2[[\"retweet\"]]\n",
    "X = df_stat2[\n",
    "    [\"favorite\", \"follower\", \"friend\", \"length\", \"emoticon\", \"use_history\", \"positive\"]\n",
    "]\n",
    "X = sm.add_constant(X)\n",
    "\n",
    "results = sm.GLM(Y, X, family=sm.families.Poisson()).fit()\n",
    "print(results.summary())"
   ]
  },
  {
   "cell_type": "markdown",
   "id": "b5625bb8-ef0f-473f-99ab-7a355fc0ec64",
   "metadata": {},
   "source": [
    "### Summary\n",
    "\n",
    "Using Poisson regression model on the number of retweets for tweets about #iPhone14 and #iPhone14Pro, the number of retweets increases when the tweets are by tweeters with higher number of followers and longer history of using Twitter. The number also goes up with the use of emoticons in the tweets and the number of favories received by the tweets."
   ]
  }
 ],
 "metadata": {
  "kernelspec": {
   "display_name": "propulsion",
   "language": "python",
   "name": "propulsion"
  },
  "language_info": {
   "codemirror_mode": {
    "name": "ipython",
    "version": 3
   },
   "file_extension": ".py",
   "mimetype": "text/x-python",
   "name": "python",
   "nbconvert_exporter": "python",
   "pygments_lexer": "ipython3",
   "version": "3.10.4"
  }
 },
 "nbformat": 4,
 "nbformat_minor": 5
}
