{
 "cells": [
  {
   "cell_type": "markdown",
   "id": "7630abbd-2444-4048-a980-4c9f3d8dd747",
   "metadata": {},
   "source": [
    "# Twitter Project - Data Cleaning for the Tweet"
   ]
  },
  {
   "cell_type": "markdown",
   "id": "e55c447b-6de7-4ce0-a57b-1149278e0b1d",
   "metadata": {},
   "source": [
    "### Import libraries"
   ]
  },
  {
   "cell_type": "code",
   "execution_count": 1,
   "id": "fa745ee6-b52d-4e03-8a82-85d814b04d5e",
   "metadata": {},
   "outputs": [],
   "source": [
    "%reload_ext lab_black\n",
    "\n",
    "import pandas as pd\n",
    "import re\n",
    "import string\n",
    "import nltk\n",
    "from nltk.corpus import stopwords\n",
    "from nltk.tokenize import word_tokenize\n",
    "from collections import Counter\n",
    "\n",
    "# nltk.download(\"stopwords\")\n",
    "# nltk.download(\"punkt\")"
   ]
  },
  {
   "cell_type": "markdown",
   "id": "f422e94a-e835-4e04-ba7b-4f04e2b5c3df",
   "metadata": {},
   "source": [
    "### Cleaning for iPhone14"
   ]
  },
  {
   "cell_type": "code",
   "execution_count": 2,
   "id": "60b1c869-1491-44a2-9ea4-c92e8d700087",
   "metadata": {
    "id": "8j4n-jf1Vr3Q",
    "outputId": "ee1a23c1-4b59-42a5-a139-dd544f111bd6"
   },
   "outputs": [],
   "source": [
    "# reading iPhone14 data from csv\n",
    "df_raw = pd.read_csv(\"../data/raw/iPhone14x10k_RAW.csv\", index_col=0)"
   ]
  },
  {
   "cell_type": "code",
   "execution_count": 3,
   "id": "f83c8f31-3b68-49f6-a5c7-dc8cb423f3af",
   "metadata": {},
   "outputs": [
    {
     "data": {
      "text/plain": [
       "(8649, 5)"
      ]
     },
     "execution_count": 3,
     "metadata": {},
     "output_type": "execute_result"
    }
   ],
   "source": [
    "# drop duplicates\n",
    "df_a = df_raw.drop_duplicates(keep=\"first\")\n",
    "df_b = df_a.copy()\n",
    "\n",
    "# convert Tweet to lowercase for string comparison\n",
    "df_b[\"Tweet\"] = df_a[\"Tweet\"].str.lower()\n",
    "\n",
    "# create a new column for retweet\n",
    "df_b[\"retweet\"] = df_b[\"Tweet\"].str.contains(\"rt @\")\n",
    "\n",
    "# create a new column for the keyword #iphone14\n",
    "df_b[\"iphone\"] = df_b[\"Tweet\"].str.contains(\"#iphone14\")\n",
    "\n",
    "# drop individuals if Tweet does not contain the hashtag #iPhone14\n",
    "df_c = df_b[df_b[\"iphone\"] == True]\n",
    "\n",
    "df_c.shape"
   ]
  },
  {
   "cell_type": "markdown",
   "id": "641da238-d815-4d59-aeec-ac43a43ee0d0",
   "metadata": {},
   "source": [
    "### Cleaning for iPhone14Pro"
   ]
  },
  {
   "cell_type": "code",
   "execution_count": 4,
   "id": "53589bce-4aa2-4d6f-82aa-b8372687ec63",
   "metadata": {
    "id": "8j4n-jf1Vr3Q",
    "outputId": "ee1a23c1-4b59-42a5-a139-dd544f111bd6"
   },
   "outputs": [],
   "source": [
    "# reading iPhone14 data from csv\n",
    "dfpro_raw = pd.read_csv(\"../data/raw/iPhone14Prox10k_RAW.csv\", index_col=0)"
   ]
  },
  {
   "cell_type": "code",
   "execution_count": 5,
   "id": "7c21e1c3-578e-4b3e-bbe9-2db4d8a27c53",
   "metadata": {},
   "outputs": [
    {
     "data": {
      "text/plain": [
       "(8103, 5)"
      ]
     },
     "execution_count": 5,
     "metadata": {},
     "output_type": "execute_result"
    }
   ],
   "source": [
    "# drop duplicates\n",
    "dfpro_a = dfpro_raw.drop_duplicates(keep=\"first\")\n",
    "dfpro_b = dfpro_a.copy()\n",
    "\n",
    "# convert Tweet to lowercase for string comparison\n",
    "dfpro_b[\"Tweet\"] = dfpro_a[\"Tweet\"].str.lower()\n",
    "\n",
    "# create a new column for retweet\n",
    "dfpro_b[\"retweet\"] = dfpro_b[\"Tweet\"].str.contains(\"rt @\")\n",
    "\n",
    "# create a new column for the keyword #iphone14\n",
    "dfpro_b[\"iphonepro\"] = dfpro_b[\"Tweet\"].str.contains(\"#iphone14pro\")\n",
    "\n",
    "# drop individuals if Tweet does not contain the hashtag #iPhone14Pro\n",
    "dfpro_c = dfpro_b[dfpro_b[\"iphonepro\"] == True]\n",
    "\n",
    "dfpro_c.shape"
   ]
  },
  {
   "cell_type": "markdown",
   "id": "5fc9ba37-7a1d-4cb6-bed5-22700eb1f2b3",
   "metadata": {},
   "source": [
    "### Concatenate iPhone14 and iPhone14Pro DataFrames"
   ]
  },
  {
   "cell_type": "code",
   "execution_count": 6,
   "id": "72b4e68d-a4d6-44dc-b993-4e6bd46f8d42",
   "metadata": {},
   "outputs": [
    {
     "data": {
      "text/plain": [
       "(16752, 6)"
      ]
     },
     "execution_count": 6,
     "metadata": {},
     "output_type": "execute_result"
    }
   ],
   "source": [
    "df_comb = pd.concat([df_c, dfpro_c]).reset_index(drop=True)\n",
    "df_comb.shape"
   ]
  },
  {
   "cell_type": "code",
   "execution_count": 7,
   "id": "7c7a0e09-dc83-45ad-9029-375f23124c37",
   "metadata": {},
   "outputs": [],
   "source": [
    "# replace the missing iphone and iphonepro with False as they are from the other dataset\n",
    "df = df_comb.copy()\n",
    "df[[\"iphone\", \"iphonepro\"]] = df_comb[[\"iphone\", \"iphonepro\"]].fillna(False)"
   ]
  },
  {
   "cell_type": "code",
   "execution_count": 8,
   "id": "266c6d12-3adc-4800-bccf-208dc525ed8d",
   "metadata": {},
   "outputs": [
    {
     "data": {
      "text/html": [
       "<div>\n",
       "<style scoped>\n",
       "    .dataframe tbody tr th:only-of-type {\n",
       "        vertical-align: middle;\n",
       "    }\n",
       "\n",
       "    .dataframe tbody tr th {\n",
       "        vertical-align: top;\n",
       "    }\n",
       "\n",
       "    .dataframe thead th {\n",
       "        text-align: right;\n",
       "    }\n",
       "</style>\n",
       "<table border=\"1\" class=\"dataframe\">\n",
       "  <thead>\n",
       "    <tr style=\"text-align: right;\">\n",
       "      <th></th>\n",
       "      <th>User</th>\n",
       "      <th>DateTime</th>\n",
       "      <th>Tweet</th>\n",
       "      <th>retweet</th>\n",
       "      <th>iphone</th>\n",
       "      <th>iphonepro</th>\n",
       "    </tr>\n",
       "  </thead>\n",
       "  <tbody>\n",
       "    <tr>\n",
       "      <th>0</th>\n",
       "      <td>bosesubash56</td>\n",
       "      <td>2022-09-14 14:17:04+00:00</td>\n",
       "      <td>@ws_mobiletrans #nothingchangedaftertransfer a...</td>\n",
       "      <td>False</td>\n",
       "      <td>True</td>\n",
       "      <td>False</td>\n",
       "    </tr>\n",
       "    <tr>\n",
       "      <th>1</th>\n",
       "      <td>you_swerve</td>\n",
       "      <td>2022-09-14 14:15:18+00:00</td>\n",
       "      <td>rt @insanetweet: iphone 8 while upgrading to i...</td>\n",
       "      <td>True</td>\n",
       "      <td>True</td>\n",
       "      <td>False</td>\n",
       "    </tr>\n",
       "    <tr>\n",
       "      <th>2</th>\n",
       "      <td>MarkVenaTechGuy</td>\n",
       "      <td>2022-09-14 14:13:51+00:00</td>\n",
       "      <td>my #smarttechcheck newsletter thoughts about t...</td>\n",
       "      <td>False</td>\n",
       "      <td>True</td>\n",
       "      <td>False</td>\n",
       "    </tr>\n",
       "    <tr>\n",
       "      <th>3</th>\n",
       "      <td>WinPhanKyle</td>\n",
       "      <td>2022-09-14 14:13:16+00:00</td>\n",
       "      <td>rt @saradietschy: #iphone14 unboxing time!! go...</td>\n",
       "      <td>True</td>\n",
       "      <td>True</td>\n",
       "      <td>False</td>\n",
       "    </tr>\n",
       "    <tr>\n",
       "      <th>4</th>\n",
       "      <td>zaheenhafzer</td>\n",
       "      <td>2022-09-14 14:13:04+00:00</td>\n",
       "      <td>rt @zollotech: but first the cases…#iphone14\\r...</td>\n",
       "      <td>True</td>\n",
       "      <td>True</td>\n",
       "      <td>False</td>\n",
       "    </tr>\n",
       "  </tbody>\n",
       "</table>\n",
       "</div>"
      ],
      "text/plain": [
       "              User                   DateTime  \\\n",
       "0     bosesubash56  2022-09-14 14:17:04+00:00   \n",
       "1       you_swerve  2022-09-14 14:15:18+00:00   \n",
       "2  MarkVenaTechGuy  2022-09-14 14:13:51+00:00   \n",
       "3      WinPhanKyle  2022-09-14 14:13:16+00:00   \n",
       "4     zaheenhafzer  2022-09-14 14:13:04+00:00   \n",
       "\n",
       "                                               Tweet  retweet  iphone  \\\n",
       "0  @ws_mobiletrans #nothingchangedaftertransfer a...    False    True   \n",
       "1  rt @insanetweet: iphone 8 while upgrading to i...     True    True   \n",
       "2  my #smarttechcheck newsletter thoughts about t...    False    True   \n",
       "3  rt @saradietschy: #iphone14 unboxing time!! go...     True    True   \n",
       "4  rt @zollotech: but first the cases…#iphone14\\r...     True    True   \n",
       "\n",
       "   iphonepro  \n",
       "0      False  \n",
       "1      False  \n",
       "2      False  \n",
       "3      False  \n",
       "4      False  "
      ]
     },
     "execution_count": 8,
     "metadata": {},
     "output_type": "execute_result"
    }
   ],
   "source": [
    "df.head()"
   ]
  },
  {
   "cell_type": "code",
   "execution_count": 9,
   "id": "b9e09163-7047-46ea-9f86-33fea39aed3e",
   "metadata": {},
   "outputs": [],
   "source": [
    "## create a new column for individuals that are in both iPhone14 and iPhone14Pro DataFrames\n",
    "# df[\"overlap\"] = df.duplicated(subset=[\"User\", \"DateTime\", \"Tweet\"], keep=False)\n",
    "\n",
    "# drop individuals that are in both iPhone14 and iPhone14Pro DataFrames\n",
    "df_sub = df.drop_duplicates(subset=[\"User\", \"DateTime\", \"Tweet\"], keep=False).copy()"
   ]
  },
  {
   "cell_type": "code",
   "execution_count": 10,
   "id": "15463a0c-9185-4464-95d6-d5dc921516a8",
   "metadata": {},
   "outputs": [],
   "source": [
    "# define a function to clean up the text in Tweet before counting them\n",
    "\n",
    "\n",
    "def cleanup(text):\n",
    "    # remove elements that begin with @... or http...\n",
    "    text1 = re.sub(r\"@\\S+\", \"\", text)\n",
    "    text2 = re.sub(r\"http\\S+\", \"\", text1)\n",
    "\n",
    "    # remove \\r, \\n, RT, or &amp;\n",
    "    text3 = (\n",
    "        text2.replace(\"\\r\", \"\")\n",
    "        .replace(\"\\n\", \" \")\n",
    "        .replace(\"RT\", \"\")\n",
    "        .replace(\"&amp;\", \"\")\n",
    "    )\n",
    "\n",
    "    # remove punctuation\n",
    "    text4 = \"\".join([i.lower() for i in text3 if i not in string.punctuation])\n",
    "\n",
    "    # remove stopwords\n",
    "    text5 = \" \".join(\n",
    "        [\n",
    "            word\n",
    "            for word in word_tokenize(text4)\n",
    "            if not word in stopwords.words(\"english\")\n",
    "        ]\n",
    "    )\n",
    "\n",
    "    return text5"
   ]
  },
  {
   "cell_type": "code",
   "execution_count": 11,
   "id": "38229545-9ee6-44f5-8f2b-ce12dd282e34",
   "metadata": {
    "tags": []
   },
   "outputs": [],
   "source": [
    "# define the function to return the list with \"n\" most common words in Tweet\n",
    "\n",
    "\n",
    "def tweet_words(n, df_in):\n",
    "\n",
    "    # combine the Tweet of all individuals\n",
    "    combitext = \" \".join(df_in[\"Tweet\"].values)\n",
    "\n",
    "    # clean up the combined text\n",
    "    cleantext = cleanup(combitext)\n",
    "\n",
    "    # show the list with \"n\" most common words\n",
    "    return Counter(cleantext.split()).most_common(n)"
   ]
  },
  {
   "cell_type": "code",
   "execution_count": 12,
   "id": "d396e95b-5900-4d7b-b6e7-2a11a88bf4f5",
   "metadata": {},
   "outputs": [
    {
     "data": {
      "text/plain": [
       "[('iphone14pro', 3811),\n",
       " ('rt', 2401),\n",
       " ('iphone', 1641),\n",
       " ('pro', 1476),\n",
       " ('new', 1315),\n",
       " ('iphone14', 1207),\n",
       " ('better', 951),\n",
       " ('experience', 931),\n",
       " ('travel', 925),\n",
       " ('easier', 924),\n",
       " ('🏆win', 923),\n",
       " ('tourism', 923),\n",
       " ('appleevent', 889),\n",
       " ('14', 850),\n",
       " ('apple', 747),\n",
       " ('’', 507),\n",
       " ('iphone14promax', 401),\n",
       " ('help', 285),\n",
       " ('today', 252),\n",
       " ('x', 225)]"
      ]
     },
     "execution_count": 12,
     "metadata": {},
     "output_type": "execute_result"
    }
   ],
   "source": [
    "#########################################################################################\n",
    "# The input DataFrame for generating the text count. Just need to change\n",
    "# the variable name (e.g., iphonepro) and/or the value (e.g., True) of the condition\n",
    "#########################################################################################\n",
    "\n",
    "df_input = df_sub[df_sub[\"iphonepro\"] == True]\n",
    "tweet_words(20, df_input)"
   ]
  },
  {
   "cell_type": "code",
   "execution_count": 13,
   "id": "6229ff96-179f-4776-8216-c53e292585d9",
   "metadata": {},
   "outputs": [
    {
     "data": {
      "text/plain": [
       "[('iphone14', 4486),\n",
       " ('iphone', 2746),\n",
       " ('rt', 2466),\n",
       " ('apple', 1453),\n",
       " ('ios16', 1127),\n",
       " ('14', 1046),\n",
       " ('users', 780),\n",
       " ('rn', 743),\n",
       " ('new', 571),\n",
       " ('’', 479),\n",
       " ('appleevent', 428),\n",
       " ('pro', 301),\n",
       " ('ios', 285),\n",
       " ('let', 232),\n",
       " ('know', 228),\n",
       " ('ad', 224),\n",
       " ('shot', 218),\n",
       " ('want', 207),\n",
       " ('features', 203),\n",
       " ('first', 187)]"
      ]
     },
     "execution_count": 13,
     "metadata": {},
     "output_type": "execute_result"
    }
   ],
   "source": [
    "df_input = df_sub[df_sub[\"iphone\"] == True]\n",
    "tweet_words(20, df_input)"
   ]
  },
  {
   "cell_type": "code",
   "execution_count": 14,
   "id": "3f26c4de-72d3-4245-9465-dc84e60bd70a",
   "metadata": {},
   "outputs": [
    {
     "data": {
      "text/plain": [
       "[('iphone14pro', 1499),\n",
       " ('iphone', 804),\n",
       " ('apple', 514),\n",
       " ('14', 395),\n",
       " ('pro', 310),\n",
       " ('help', 283),\n",
       " ('iphone14promax', 273),\n",
       " ('’', 228),\n",
       " ('new', 204),\n",
       " ('appleevent', 176),\n",
       " ('iphone14', 175),\n",
       " ('ios16', 172),\n",
       " ('someone', 142),\n",
       " ('dynamic', 137),\n",
       " ('essay', 136),\n",
       " ('island', 131),\n",
       " ('us', 109),\n",
       " ('available', 109),\n",
       " ('need', 102),\n",
       " ('dynamicisland', 97)]"
      ]
     },
     "execution_count": 14,
     "metadata": {},
     "output_type": "execute_result"
    }
   ],
   "source": [
    "df_input = df_sub[(df_sub[\"retweet\"] == False) & (df_sub[\"iphonepro\"] == True)]\n",
    "tweet_words(20, df_input)"
   ]
  },
  {
   "cell_type": "code",
   "execution_count": 15,
   "id": "ebdb226e-efbc-4960-b64b-7d9e61896242",
   "metadata": {},
   "outputs": [
    {
     "data": {
      "text/plain": [
       "[('hay', 160),\n",
       " ('want', 160),\n",
       " ('create', 160),\n",
       " ('cute', 160),\n",
       " ('image', 160),\n",
       " ('cartoon', 160),\n",
       " ('portrait', 160),\n",
       " ('visit', 160),\n",
       " ('jennie', 160),\n",
       " ('lisa', 160),\n",
       " ('pakistan', 160),\n",
       " ('iphone14', 160),\n",
       " ('brahmastra', 160),\n",
       " ('xbox', 160),\n",
       " ('worldcup2022', 160),\n",
       " ('meditation', 160),\n",
       " ('chengyi', 160),\n",
       " ('rahulvaidya', 160),\n",
       " ('jesus', 160),\n",
       " ('australia', 160)]"
      ]
     },
     "execution_count": 15,
     "metadata": {},
     "output_type": "execute_result"
    }
   ],
   "source": [
    "df_input = df_sub[df_sub[\"User\"] == \"Rokibul60100130\"]\n",
    "tweet_words(20, df_input)"
   ]
  },
  {
   "cell_type": "code",
   "execution_count": null,
   "id": "d36908a7-2ff9-4a76-9cdf-5841f4324cb7",
   "metadata": {},
   "outputs": [],
   "source": []
  }
 ],
 "metadata": {
  "kernelspec": {
   "display_name": "Python ('propulsion')",
   "language": "python",
   "name": "python3"
  },
  "language_info": {
   "codemirror_mode": {
    "name": "ipython",
    "version": 3
   },
   "file_extension": ".py",
   "mimetype": "text/x-python",
   "name": "python",
   "nbconvert_exporter": "python",
   "pygments_lexer": "ipython3",
   "version": ""
  },
  "vscode": {
   "interpreter": {
    "hash": "25a19fbe0a9132dfb9279d48d161753c6352f8f9478c2e74383d340069b907c3"
   }
  }
 },
 "nbformat": 4,
 "nbformat_minor": 5
}
