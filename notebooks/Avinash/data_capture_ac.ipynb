{
 "cells": [
  {
   "cell_type": "code",
   "execution_count": 150,
   "id": "2a70e7d1-b2da-464b-a3b7-256f14f9e10f",
   "metadata": {},
   "outputs": [],
   "source": [
    "import pandas as pd\n",
    "import json\n",
    "from twython import Twython\n",
    "import tweepy\n",
    "import configparser\n",
    "import matplotlib.pyplot as plt\n",
    "import numpy as np"
   ]
  },
  {
   "cell_type": "code",
   "execution_count": 2,
   "id": "10dbb070-1033-4de7-91af-8233638faae0",
   "metadata": {},
   "outputs": [
    {
     "data": {
      "text/plain": [
       "['../../../config_ac.ini']"
      ]
     },
     "execution_count": 2,
     "metadata": {},
     "output_type": "execute_result"
    }
   ],
   "source": [
    "config=configparser.ConfigParser()\n",
    "config.read(\"../../../config_ac.ini\")"
   ]
  },
  {
   "cell_type": "code",
   "execution_count": 7,
   "id": "eebfd1ea-fb47-49fe-95e2-db14743447cb",
   "metadata": {},
   "outputs": [],
   "source": [
    "from sys import api_version\n",
    "api_key=config['twitter']['api_key']\n",
    "api_secret_key=config['twitter']['api_secret_key']\n",
    "access_token=config['twitter']['access_token']\n",
    "access_secret=config['twitter']['access_token_secret']\n",
    "\n",
    "# authenticate\n",
    "auth = tweepy.OAuthHandler(api_key, api_secret_key)\n",
    "auth.set_access_token(access_token, access_secret)\n",
    "\n",
    "api = tweepy.API(auth)"
   ]
  },
  {
   "cell_type": "code",
   "execution_count": 8,
   "id": "54aac76d-0af4-4824-a8a8-ef2fc0db8933",
   "metadata": {},
   "outputs": [
    {
     "data": {
      "text/html": [
       "<div>\n",
       "<style scoped>\n",
       "    .dataframe tbody tr th:only-of-type {\n",
       "        vertical-align: middle;\n",
       "    }\n",
       "\n",
       "    .dataframe tbody tr th {\n",
       "        vertical-align: top;\n",
       "    }\n",
       "\n",
       "    .dataframe thead th {\n",
       "        text-align: right;\n",
       "    }\n",
       "</style>\n",
       "<table border=\"1\" class=\"dataframe\">\n",
       "  <thead>\n",
       "    <tr style=\"text-align: right;\">\n",
       "      <th></th>\n",
       "      <th>User</th>\n",
       "      <th>Tweet_time</th>\n",
       "      <th>Tweet</th>\n",
       "      <th>Hashtag</th>\n",
       "      <th>Retweet</th>\n",
       "      <th>Favorite</th>\n",
       "      <th>Join_time</th>\n",
       "      <th>Follower</th>\n",
       "      <th>Friend</th>\n",
       "    </tr>\n",
       "  </thead>\n",
       "  <tbody>\n",
       "    <tr>\n",
       "      <th>0</th>\n",
       "      <td>WuKiana1</td>\n",
       "      <td>2022-09-15 07:50:04+00:00</td>\n",
       "      <td>pc material, anti yellow, waterproof.\\nAvailab...</td>\n",
       "      <td>[{'text': 'apple', 'indices': [60, 66]}, {'tex...</td>\n",
       "      <td>0</td>\n",
       "      <td>0</td>\n",
       "      <td>2022-07-15 01:51:10+00:00</td>\n",
       "      <td>0</td>\n",
       "      <td>6</td>\n",
       "    </tr>\n",
       "    <tr>\n",
       "      <th>1</th>\n",
       "      <td>corpernews</td>\n",
       "      <td>2022-09-15 07:47:17+00:00</td>\n",
       "      <td>Few amongst the features of the new IOS 16, ha...</td>\n",
       "      <td>[{'text': 'ios16', 'indices': [91, 97]}, {'tex...</td>\n",
       "      <td>1</td>\n",
       "      <td>2</td>\n",
       "      <td>2021-08-18 00:45:57+00:00</td>\n",
       "      <td>141</td>\n",
       "      <td>393</td>\n",
       "    </tr>\n",
       "    <tr>\n",
       "      <th>2</th>\n",
       "      <td>Hina_honey27</td>\n",
       "      <td>2022-09-15 07:38:52+00:00</td>\n",
       "      <td>Every year this apple launches iphone to make ...</td>\n",
       "      <td>[{'text': 'iPhone', 'indices': [81, 88]}, {'te...</td>\n",
       "      <td>0</td>\n",
       "      <td>1</td>\n",
       "      <td>2021-07-08 21:05:20+00:00</td>\n",
       "      <td>3100</td>\n",
       "      <td>4991</td>\n",
       "    </tr>\n",
       "    <tr>\n",
       "      <th>3</th>\n",
       "      <td>qiandutech11</td>\n",
       "      <td>2022-09-15 07:26:42+00:00</td>\n",
       "      <td>Are you looking for the new design phone cases...</td>\n",
       "      <td>[{'text': 'iphone14', 'indices': [68, 77]}, {'...</td>\n",
       "      <td>0</td>\n",
       "      <td>0</td>\n",
       "      <td>2021-10-30 01:00:46+00:00</td>\n",
       "      <td>3</td>\n",
       "      <td>26</td>\n",
       "    </tr>\n",
       "    <tr>\n",
       "      <th>4</th>\n",
       "      <td>torro_uk</td>\n",
       "      <td>2022-09-15 07:26:40+00:00</td>\n",
       "      <td>Expecting an iPhone 14 delivery tomorrow? Don’...</td>\n",
       "      <td>[{'text': 'iphone14', 'indices': [163, 172]}, ...</td>\n",
       "      <td>0</td>\n",
       "      <td>0</td>\n",
       "      <td>2013-03-18 19:56:37+00:00</td>\n",
       "      <td>4886</td>\n",
       "      <td>993</td>\n",
       "    </tr>\n",
       "  </tbody>\n",
       "</table>\n",
       "</div>"
      ],
      "text/plain": [
       "           User                Tweet_time  \\\n",
       "0      WuKiana1 2022-09-15 07:50:04+00:00   \n",
       "1    corpernews 2022-09-15 07:47:17+00:00   \n",
       "2  Hina_honey27 2022-09-15 07:38:52+00:00   \n",
       "3  qiandutech11 2022-09-15 07:26:42+00:00   \n",
       "4      torro_uk 2022-09-15 07:26:40+00:00   \n",
       "\n",
       "                                               Tweet  \\\n",
       "0  pc material, anti yellow, waterproof.\\nAvailab...   \n",
       "1  Few amongst the features of the new IOS 16, ha...   \n",
       "2  Every year this apple launches iphone to make ...   \n",
       "3  Are you looking for the new design phone cases...   \n",
       "4  Expecting an iPhone 14 delivery tomorrow? Don’...   \n",
       "\n",
       "                                             Hashtag  Retweet  Favorite  \\\n",
       "0  [{'text': 'apple', 'indices': [60, 66]}, {'tex...        0         0   \n",
       "1  [{'text': 'ios16', 'indices': [91, 97]}, {'tex...        1         2   \n",
       "2  [{'text': 'iPhone', 'indices': [81, 88]}, {'te...        0         1   \n",
       "3  [{'text': 'iphone14', 'indices': [68, 77]}, {'...        0         0   \n",
       "4  [{'text': 'iphone14', 'indices': [163, 172]}, ...        0         0   \n",
       "\n",
       "                  Join_time  Follower  Friend  \n",
       "0 2022-07-15 01:51:10+00:00         0       6  \n",
       "1 2021-08-18 00:45:57+00:00       141     393  \n",
       "2 2021-07-08 21:05:20+00:00      3100    4991  \n",
       "3 2021-10-30 01:00:46+00:00         3      26  \n",
       "4 2013-03-18 19:56:37+00:00      4886     993  "
      ]
     },
     "execution_count": 8,
     "metadata": {},
     "output_type": "execute_result"
    }
   ],
   "source": [
    "### search by user\n",
    "# user = 'veritasium'\n",
    "# limit=300\n",
    "# tweets = tweepy.Cursor(api.user_timeline, screen_name=user, count=200, tweet_mode='extended').items(limit)\n",
    "\n",
    "### search by keyword or hashtag (works too for @user)\n",
    "keywords = \"#iPhone14Pro -filter:retweets\"\n",
    "limit = 10000\n",
    "tweets = tweepy.Cursor(\n",
    "    api.search_tweets, q=keywords, count=100, lang=\"en\", tweet_mode=\"extended\"\n",
    ").items(limit)\n",
    "\n",
    "### create DataFrame\n",
    "columns = [\n",
    "    \"User\",\n",
    "    \"Tweet_time\",\n",
    "    \"Tweet\",\n",
    "    \"Hashtag\",\n",
    "    \"Retweet\",\n",
    "    \"Favorite\",\n",
    "    \"Join_time\",\n",
    "    \"Follower\",\n",
    "    \"Friend\",\n",
    "]\n",
    "\n",
    "data = []\n",
    "\n",
    "for tweet in tweets:\n",
    "    data.append(\n",
    "        [\n",
    "            tweet.user.screen_name,\n",
    "            tweet.created_at,\n",
    "            tweet.full_text,\n",
    "            tweet.entities[\"hashtags\"],\n",
    "            tweet.retweet_count,\n",
    "            tweet.favorite_count,\n",
    "            tweet.user.created_at,\n",
    "            tweet.user.followers_count,\n",
    "            tweet.user.friends_count,\n",
    "        ]\n",
    "    )\n",
    "\n",
    "df = pd.DataFrame(data, columns=columns)\n",
    "\n",
    "df.head()"
   ]
  },
  {
   "cell_type": "code",
   "execution_count": 14,
   "id": "4ea26d1e-13d9-4119-a81d-c744898d327c",
   "metadata": {},
   "outputs": [
    {
     "data": {
      "text/plain": [
       "(10000, 9)"
      ]
     },
     "execution_count": 14,
     "metadata": {},
     "output_type": "execute_result"
    }
   ],
   "source": [
    "df.shape"
   ]
  },
  {
   "cell_type": "code",
   "execution_count": 280,
   "id": "324a90e4-83a2-4cd8-8989-6f5788c062ae",
   "metadata": {},
   "outputs": [
    {
     "data": {
      "text/html": [
       "<div>\n",
       "<style scoped>\n",
       "    .dataframe tbody tr th:only-of-type {\n",
       "        vertical-align: middle;\n",
       "    }\n",
       "\n",
       "    .dataframe tbody tr th {\n",
       "        vertical-align: top;\n",
       "    }\n",
       "\n",
       "    .dataframe thead th {\n",
       "        text-align: right;\n",
       "    }\n",
       "</style>\n",
       "<table border=\"1\" class=\"dataframe\">\n",
       "  <thead>\n",
       "    <tr style=\"text-align: right;\">\n",
       "      <th></th>\n",
       "      <th>Unnamed: 0</th>\n",
       "      <th>User</th>\n",
       "      <th>DateTime</th>\n",
       "      <th>Tweet</th>\n",
       "    </tr>\n",
       "  </thead>\n",
       "  <tbody>\n",
       "    <tr>\n",
       "      <th>0</th>\n",
       "      <td>0</td>\n",
       "      <td>bosesubash56</td>\n",
       "      <td>2022-09-14 14:17:04+00:00</td>\n",
       "      <td>@WS_MobileTrans #nothingchangedaftertransfer a...</td>\n",
       "    </tr>\n",
       "    <tr>\n",
       "      <th>1</th>\n",
       "      <td>1</td>\n",
       "      <td>you_swerve</td>\n",
       "      <td>2022-09-14 14:15:18+00:00</td>\n",
       "      <td>RT @insanetweet: iPhone 8 while upgrading to i...</td>\n",
       "    </tr>\n",
       "    <tr>\n",
       "      <th>2</th>\n",
       "      <td>2</td>\n",
       "      <td>MarkVenaTechGuy</td>\n",
       "      <td>2022-09-14 14:13:51+00:00</td>\n",
       "      <td>My #SmartTechCheck newsletter thoughts about t...</td>\n",
       "    </tr>\n",
       "    <tr>\n",
       "      <th>3</th>\n",
       "      <td>3</td>\n",
       "      <td>WinPhanKyle</td>\n",
       "      <td>2022-09-14 14:13:16+00:00</td>\n",
       "      <td>RT @saradietschy: #iPhone14 Unboxing time!! Go...</td>\n",
       "    </tr>\n",
       "    <tr>\n",
       "      <th>4</th>\n",
       "      <td>4</td>\n",
       "      <td>zaheenhafzer</td>\n",
       "      <td>2022-09-14 14:13:04+00:00</td>\n",
       "      <td>RT @zollotech: But first the cases…#iphone14\\r...</td>\n",
       "    </tr>\n",
       "  </tbody>\n",
       "</table>\n",
       "</div>"
      ],
      "text/plain": [
       "   Unnamed: 0             User                   DateTime  \\\n",
       "0           0     bosesubash56  2022-09-14 14:17:04+00:00   \n",
       "1           1       you_swerve  2022-09-14 14:15:18+00:00   \n",
       "2           2  MarkVenaTechGuy  2022-09-14 14:13:51+00:00   \n",
       "3           3      WinPhanKyle  2022-09-14 14:13:16+00:00   \n",
       "4           4     zaheenhafzer  2022-09-14 14:13:04+00:00   \n",
       "\n",
       "                                               Tweet  \n",
       "0  @WS_MobileTrans #nothingchangedaftertransfer a...  \n",
       "1  RT @insanetweet: iPhone 8 while upgrading to i...  \n",
       "2  My #SmartTechCheck newsletter thoughts about t...  \n",
       "3  RT @saradietschy: #iPhone14 Unboxing time!! Go...  \n",
       "4  RT @zollotech: But first the cases…#iphone14\\r...  "
      ]
     },
     "execution_count": 280,
     "metadata": {},
     "output_type": "execute_result"
    }
   ],
   "source": [
    "i14=pd.read_csv(\"../data/raw/iPhone14x10k_RAW.csv\")\n",
    "i14.head()"
   ]
  },
  {
   "cell_type": "code",
   "execution_count": 281,
   "id": "5565e71d-8f7d-4a9a-9cbc-e96e2d208dd1",
   "metadata": {},
   "outputs": [],
   "source": [
    "i14['Date'] = pd.to_datetime(i14['DateTime']).dt.date\n",
    "i14['Time'] = pd.to_datetime(i14['DateTime']).dt.time\n",
    "i14['Hour'] = pd.to_datetime(i14['DateTime']).dt.hour"
   ]
  },
  {
   "cell_type": "code",
   "execution_count": 282,
   "id": "5df7b446-4049-4f33-8d89-bdd0b9886950",
   "metadata": {},
   "outputs": [],
   "source": [
    "i14=i14.drop(columns=\"DateTime\")"
   ]
  },
  {
   "cell_type": "code",
   "execution_count": 283,
   "id": "3d6bd966-cfff-4785-8ba7-a435fbd6505a",
   "metadata": {},
   "outputs": [
    {
     "data": {
      "text/html": [
       "<div>\n",
       "<style scoped>\n",
       "    .dataframe tbody tr th:only-of-type {\n",
       "        vertical-align: middle;\n",
       "    }\n",
       "\n",
       "    .dataframe tbody tr th {\n",
       "        vertical-align: top;\n",
       "    }\n",
       "\n",
       "    .dataframe thead th {\n",
       "        text-align: right;\n",
       "    }\n",
       "</style>\n",
       "<table border=\"1\" class=\"dataframe\">\n",
       "  <thead>\n",
       "    <tr style=\"text-align: right;\">\n",
       "      <th></th>\n",
       "      <th>Unnamed: 0</th>\n",
       "      <th>User</th>\n",
       "      <th>Tweet</th>\n",
       "      <th>Date</th>\n",
       "      <th>Time</th>\n",
       "      <th>Hour</th>\n",
       "    </tr>\n",
       "  </thead>\n",
       "  <tbody>\n",
       "    <tr>\n",
       "      <th>0</th>\n",
       "      <td>0</td>\n",
       "      <td>bosesubash56</td>\n",
       "      <td>@WS_MobileTrans #nothingchangedaftertransfer a...</td>\n",
       "      <td>2022-09-14</td>\n",
       "      <td>14:17:04</td>\n",
       "      <td>14</td>\n",
       "    </tr>\n",
       "    <tr>\n",
       "      <th>1</th>\n",
       "      <td>1</td>\n",
       "      <td>you_swerve</td>\n",
       "      <td>RT @insanetweet: iPhone 8 while upgrading to i...</td>\n",
       "      <td>2022-09-14</td>\n",
       "      <td>14:15:18</td>\n",
       "      <td>14</td>\n",
       "    </tr>\n",
       "    <tr>\n",
       "      <th>2</th>\n",
       "      <td>2</td>\n",
       "      <td>MarkVenaTechGuy</td>\n",
       "      <td>My #SmartTechCheck newsletter thoughts about t...</td>\n",
       "      <td>2022-09-14</td>\n",
       "      <td>14:13:51</td>\n",
       "      <td>14</td>\n",
       "    </tr>\n",
       "    <tr>\n",
       "      <th>3</th>\n",
       "      <td>3</td>\n",
       "      <td>WinPhanKyle</td>\n",
       "      <td>RT @saradietschy: #iPhone14 Unboxing time!! Go...</td>\n",
       "      <td>2022-09-14</td>\n",
       "      <td>14:13:16</td>\n",
       "      <td>14</td>\n",
       "    </tr>\n",
       "    <tr>\n",
       "      <th>4</th>\n",
       "      <td>4</td>\n",
       "      <td>zaheenhafzer</td>\n",
       "      <td>RT @zollotech: But first the cases…#iphone14\\r...</td>\n",
       "      <td>2022-09-14</td>\n",
       "      <td>14:13:04</td>\n",
       "      <td>14</td>\n",
       "    </tr>\n",
       "  </tbody>\n",
       "</table>\n",
       "</div>"
      ],
      "text/plain": [
       "   Unnamed: 0             User  \\\n",
       "0           0     bosesubash56   \n",
       "1           1       you_swerve   \n",
       "2           2  MarkVenaTechGuy   \n",
       "3           3      WinPhanKyle   \n",
       "4           4     zaheenhafzer   \n",
       "\n",
       "                                               Tweet        Date      Time  \\\n",
       "0  @WS_MobileTrans #nothingchangedaftertransfer a...  2022-09-14  14:17:04   \n",
       "1  RT @insanetweet: iPhone 8 while upgrading to i...  2022-09-14  14:15:18   \n",
       "2  My #SmartTechCheck newsletter thoughts about t...  2022-09-14  14:13:51   \n",
       "3  RT @saradietschy: #iPhone14 Unboxing time!! Go...  2022-09-14  14:13:16   \n",
       "4  RT @zollotech: But first the cases…#iphone14\\r...  2022-09-14  14:13:04   \n",
       "\n",
       "   Hour  \n",
       "0    14  \n",
       "1    14  \n",
       "2    14  \n",
       "3    14  \n",
       "4    14  "
      ]
     },
     "execution_count": 283,
     "metadata": {},
     "output_type": "execute_result"
    }
   ],
   "source": [
    "i14.head()"
   ]
  },
  {
   "cell_type": "code",
   "execution_count": 275,
   "id": "a30111bd-9497-480a-92f5-e47bec4f0d68",
   "metadata": {},
   "outputs": [
    {
     "data": {
      "text/plain": [
       "(10000, 6)"
      ]
     },
     "execution_count": 275,
     "metadata": {},
     "output_type": "execute_result"
    }
   ],
   "source": [
    "i14.shape"
   ]
  },
  {
   "cell_type": "code",
   "execution_count": 273,
   "id": "0100cc13-d4ff-4b3d-9bd3-4b16f5fdca0a",
   "metadata": {},
   "outputs": [
    {
     "data": {
      "text/plain": [
       "5     602\n",
       "6     561\n",
       "13    552\n",
       "17    543\n",
       "7     512\n",
       "15    476\n",
       "19    453\n",
       "9     451\n",
       "12    440\n",
       "8     439\n",
       "3     439\n",
       "4     437\n",
       "16    433\n",
       "11    431\n",
       "14    414\n",
       "10    414\n",
       "2     401\n",
       "1     374\n",
       "18    363\n",
       "0     335\n",
       "20    262\n",
       "22    234\n",
       "21    227\n",
       "23    207\n",
       "Name: Hour, dtype: int64"
      ]
     },
     "execution_count": 273,
     "metadata": {},
     "output_type": "execute_result"
    }
   ],
   "source": [
    "i14['Hour'].value_counts()"
   ]
  },
  {
   "cell_type": "code",
   "execution_count": 287,
   "id": "7d2dc787-9b3b-4df8-9d71-f433e534e06b",
   "metadata": {},
   "outputs": [],
   "source": [
    "#i14_new=i14.groupby(i14[('Date', 'Hour')])#['Tweet'].count().plot(kind='bar', figsize=(23, 8))"
   ]
  },
  {
   "cell_type": "code",
   "execution_count": 290,
   "id": "0814ebe7-2019-4b3b-8f78-96f3398e141f",
   "metadata": {},
   "outputs": [
    {
     "data": {
      "text/plain": [
       "<AxesSubplot:xlabel='Date,Hour'>"
      ]
     },
     "execution_count": 290,
     "metadata": {},
     "output_type": "execute_result"
    },
    {
     "data": {
      "image/png": "[encoded data removed]",
      "text/plain": [
       "<Figure size 1440x576 with 1 Axes>"
      ]
     },
     "metadata": {
      "needs_background": "light"
     },
     "output_type": "display_data"
    }
   ],
   "source": [
    "i14_new = i14.groupby(['Date','Hour'])['Hour'].count()\n",
    "i14_new.plot(kind='bar', figsize=(20, 8))"
   ]
  },
  {
   "cell_type": "raw",
   "id": "38fa195c-3813-4268-a6e6-0a869b8943a3",
   "metadata": {},
   "source": []
  },
  {
   "cell_type": "code",
   "execution_count": null,
   "id": "806a5537-8001-4c85-a724-34b7b71cce07",
   "metadata": {},
   "outputs": [],
   "source": []
  },
  {
   "cell_type": "code",
   "execution_count": 225,
   "id": "4e2e1bfa-84c7-492d-8383-16511c3f7941",
   "metadata": {},
   "outputs": [
    {
     "data": {
      "text/plain": [
       "<AxesSubplot:xlabel='Hour'>"
      ]
     },
     "execution_count": 225,
     "metadata": {},
     "output_type": "execute_result"
    },
    {
     "data": {
      "image/png": "[encoded data removed]",
      "text/plain": [
       "<Figure size 720x720 with 1 Axes>"
      ]
     },
     "metadata": {
      "needs_background": "light"
     },
     "output_type": "display_data"
    }
   ],
   "source": [
    "i14.groupby(by=['Hour'])['Tweet'].count().plot(kind='bar', figsize=(10, 10))"
   ]
  },
  {
   "cell_type": "code",
   "execution_count": 190,
   "id": "993d4d3e-8388-419c-bb27-2287c2524bdf",
   "metadata": {},
   "outputs": [
    {
     "data": {
      "text/plain": [
       "<AxesSubplot:xlabel='User'>"
      ]
     },
     "execution_count": 190,
     "metadata": {},
     "output_type": "execute_result"
    },
    {
     "data": {
      "image/png": "[encoded data removed]",
      "text/plain": [
       "<Figure size 432x288 with 1 Axes>"
      ]
     },
     "metadata": {
      "needs_background": "light"
     },
     "output_type": "display_data"
    }
   ],
   "source": [
    "i14_grp=i14.groupby(by=['User'])['Tweet'].count().sort_values(ascending=False).head(30)\n",
    "i14_grp.plot(kind='bar')"
   ]
  },
  {
   "cell_type": "code",
   "execution_count": 191,
   "id": "4fcd16cc-b6c9-425b-b566-48b2861c45ea",
   "metadata": {},
   "outputs": [
    {
     "data": {
      "text/plain": [
       "User             Date      \n",
       "Rokibul60100130  2022-09-12    75\n",
       "                 2022-09-13    41\n",
       "                 2022-09-14    25\n",
       "                 2022-09-11    19\n",
       "MeditationBot_   2022-09-12    14\n",
       "                               ..\n",
       "Sanjeev41097156  2022-09-14     1\n",
       "Sani__UtD        2022-09-13     1\n",
       "Sanele524        2022-09-12     1\n",
       "SaneInWackyWrld  2022-09-13     1\n",
       "zzulovess        2022-09-13     1\n",
       "Name: Tweet, Length: 8864, dtype: int64"
      ]
     },
     "execution_count": 191,
     "metadata": {},
     "output_type": "execute_result"
    }
   ],
   "source": [
    "i14_grp_dt=i14.groupby(by=['User', 'Date'], axis=0, sort=True)['Tweet'].count().sort_values(ascending=False)\n",
    "i14_grp_dt"
   ]
  },
  {
   "cell_type": "code",
   "execution_count": 204,
   "id": "4e3fa0ff-12fa-4c54-8ae6-fee0e5b463bb",
   "metadata": {},
   "outputs": [
    {
     "data": {
      "text/plain": [
       "Date        Hour\n",
       "2022-09-13  5       406\n",
       "            6       398\n",
       "            3       320\n",
       "            7       319\n",
       "2022-09-12  19      311\n",
       "                   ... \n",
       "2022-09-11  21       33\n",
       "2022-09-14  14       32\n",
       "2022-09-11  23       28\n",
       "            22       26\n",
       "            12       19\n",
       "Name: Tweet, Length: 75, dtype: int64"
      ]
     },
     "execution_count": 204,
     "metadata": {},
     "output_type": "execute_result"
    }
   ],
   "source": [
    "i14_grp_dt=i14.groupby(by=['Date', 'Hour'], axis=0, sort=True)['Tweet'].count().sort_values(ascending=False)\n",
    "i14_grp_dt"
   ]
  },
  {
   "cell_type": "code",
   "execution_count": 209,
   "id": "098ba7b1-5bc2-4c0c-ace9-1d99c8a6d405",
   "metadata": {},
   "outputs": [
    {
     "data": {
      "text/plain": [
       "(array([19., 18.,  8.,  9.,  6.,  4.,  4.,  5.,  0.,  2.]),\n",
       " array([ 19. ,  57.7,  96.4, 135.1, 173.8, 212.5, 251.2, 289.9, 328.6,\n",
       "        367.3, 406. ]),\n",
       " <BarContainer object of 10 artists>)"
      ]
     },
     "execution_count": 209,
     "metadata": {},
     "output_type": "execute_result"
    },
    {
     "data": {
      "image/png": "[encoded data removed]",
      "text/plain": [
       "<Figure size 432x288 with 1 Axes>"
      ]
     },
     "metadata": {
      "needs_background": "light"
     },
     "output_type": "display_data"
    }
   ],
   "source": [
    "plt.hist(i14_grp_dt)"
   ]
  },
  {
   "cell_type": "code",
   "execution_count": 192,
   "id": "a5468716-76c6-492a-96dc-8ddaedfd20cc",
   "metadata": {},
   "outputs": [
    {
     "data": {
      "text/plain": [
       "User\n",
       "Rokibul60100130    160\n",
       "whitestonedome      32\n",
       "XXFemale1           29\n",
       "MeditationBot_      28\n",
       "sgmobmart           27\n",
       "                  ... \n",
       "Shafi786Mohamed      1\n",
       "Shadeymiles          1\n",
       "Shaaanu08            1\n",
       "SexcVee              1\n",
       "zzulovess            1\n",
       "Name: Tweet, Length: 8519, dtype: int64"
      ]
     },
     "execution_count": 192,
     "metadata": {},
     "output_type": "execute_result"
    }
   ],
   "source": [
    "i14.groupby('User')['Tweet'].count().sort_values(ascending=False)"
   ]
  },
  {
   "cell_type": "code",
   "execution_count": 196,
   "id": "549de970-b1e5-4dcf-8fe2-3045095e8a9c",
   "metadata": {},
   "outputs": [
    {
     "data": {
      "text/plain": [
       "Time\n",
       "0     335\n",
       "1     374\n",
       "2     401\n",
       "3     439\n",
       "4     437\n",
       "5     602\n",
       "6     561\n",
       "7     512\n",
       "8     439\n",
       "9     451\n",
       "10    414\n",
       "11    431\n",
       "12    440\n",
       "13    552\n",
       "14    414\n",
       "15    476\n",
       "16    433\n",
       "17    543\n",
       "18    363\n",
       "19    453\n",
       "20    262\n",
       "21    227\n",
       "22    234\n",
       "23    207\n",
       "Name: Tweet, dtype: int64"
      ]
     },
     "execution_count": 196,
     "metadata": {},
     "output_type": "execute_result"
    }
   ],
   "source": [
    "i14_hour=i14.groupby('Time')['Tweet'].count()\n",
    "i14_hour"
   ]
  },
  {
   "cell_type": "code",
   "execution_count": 197,
   "id": "36b42916-a746-4858-9712-5a575fb2cef5",
   "metadata": {},
   "outputs": [
    {
     "data": {
      "text/plain": [
       "<AxesSubplot:xlabel='Time'>"
      ]
     },
     "execution_count": 197,
     "metadata": {},
     "output_type": "execute_result"
    },
    {
     "data": {
      "image/png": "[encoded data removed]",
      "text/plain": [
       "<Figure size 432x288 with 1 Axes>"
      ]
     },
     "metadata": {
      "needs_background": "light"
     },
     "output_type": "display_data"
    }
   ],
   "source": [
    "i14_hour.plot(kind='bar')"
   ]
  },
  {
   "cell_type": "code",
   "execution_count": 174,
   "id": "e26258b2-bac8-486d-95a4-083c5d252829",
   "metadata": {},
   "outputs": [],
   "source": [
    "#i14_grp_dt.plot(kind='bar')"
   ]
  },
  {
   "cell_type": "code",
   "execution_count": 164,
   "id": "14d106a6-bda9-44eb-9f03-30ce4f316e30",
   "metadata": {},
   "outputs": [],
   "source": [
    "#i14['normalize']=i14['User'].value_counts(normalize=True)*100"
   ]
  },
  {
   "cell_type": "code",
   "execution_count": 170,
   "id": "14cc36d4-44e6-4999-b70f-349ce0824bc6",
   "metadata": {},
   "outputs": [],
   "source": [
    "#i14.head()"
   ]
  },
  {
   "cell_type": "code",
   "execution_count": 101,
   "id": "cee67870-fc8c-4810-9828-c74abc5f0982",
   "metadata": {},
   "outputs": [],
   "source": [
    "#i14pro=pd.read_csv(\"../data/raw/iPhone14Prox10k_RAW.csv\")\n",
    "#i14pro.head()"
   ]
  },
  {
   "cell_type": "code",
   "execution_count": 45,
   "id": "30a75798-c643-4896-a6b2-7d07b6623480",
   "metadata": {},
   "outputs": [
    {
     "data": {
      "text/plain": [
       "8703"
      ]
     },
     "execution_count": 45,
     "metadata": {},
     "output_type": "execute_result"
    }
   ],
   "source": [
    "i14pro['User'].nunique()"
   ]
  },
  {
   "cell_type": "code",
   "execution_count": 56,
   "id": "5a49b8f5-9597-4d51-8dcc-ab552d267e50",
   "metadata": {},
   "outputs": [],
   "source": [
    "#i14pro['User'].value_counts(normalize=True)*100"
   ]
  },
  {
   "cell_type": "code",
   "execution_count": null,
   "id": "bcf66968-697d-43d0-9c45-c7aac2e091fc",
   "metadata": {},
   "outputs": [],
   "source": []
  },
  {
   "cell_type": "code",
   "execution_count": null,
   "id": "d92cb9c8-c260-48f5-acc8-943970da62c6",
   "metadata": {},
   "outputs": [],
   "source": []
  }
 ],
 "metadata": {
  "kernelspec": {
   "display_name": "Python 3 (ipykernel)",
   "language": "python",
   "name": "python3"
  },
  "language_info": {
   "codemirror_mode": {
    "name": "ipython",
    "version": 3
   },
   "file_extension": ".py",
   "mimetype": "text/x-python",
   "name": "python",
   "nbconvert_exporter": "python",
   "pygments_lexer": "ipython3",
   "version": "3.9.12"
  }
 },
 "nbformat": 4,
 "nbformat_minor": 5
}
